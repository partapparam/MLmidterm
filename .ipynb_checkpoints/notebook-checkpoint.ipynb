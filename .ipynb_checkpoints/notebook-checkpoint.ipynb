{
 "cells": [
  {
   "cell_type": "code",
   "execution_count": 43,
   "id": "afeb40d4",
   "metadata": {},
   "outputs": [],
   "source": [
    "import pandas as pd\n",
    "import numpy as np\n",
    "import seaborn as sns\n",
    "from matplotlib import pyplot as plt\n",
    "from IPython.display import display"
   ]
  },
  {
   "cell_type": "code",
   "execution_count": 44,
   "id": "fe621bb6",
   "metadata": {},
   "outputs": [],
   "source": [
    "train_csv = pd.read_csv('train.csv')\n",
    "test_csv = pd.read_csv('test.csv')"
   ]
  },
  {
   "cell_type": "code",
   "execution_count": 45,
   "id": "e4ab79a7",
   "metadata": {},
   "outputs": [],
   "source": [
    "df = pd.concat([train_csv, test_csv])"
   ]
  },
  {
   "cell_type": "code",
   "execution_count": 46,
   "id": "9f6e0b9d",
   "metadata": {},
   "outputs": [],
   "source": [
    "# delete the id columns, they are not useful to us\n",
    "del df['Unnamed: 0']\n",
    "del df['id']"
   ]
  },
  {
   "cell_type": "code",
   "execution_count": 47,
   "id": "85221977",
   "metadata": {},
   "outputs": [
    {
     "data": {
      "text/plain": [
       "Index(['Gender', 'Customer Type', 'Age', 'Type of Travel', 'Class',\n",
       "       'Flight Distance', 'Inflight wifi service',\n",
       "       'Departure/Arrival time convenient', 'Ease of Online booking',\n",
       "       'Gate location', 'Food and drink', 'Online boarding', 'Seat comfort',\n",
       "       'Inflight entertainment', 'On-board service', 'Leg room service',\n",
       "       'Baggage handling', 'Checkin service', 'Inflight service',\n",
       "       'Cleanliness', 'Departure Delay in Minutes', 'Arrival Delay in Minutes',\n",
       "       'satisfaction'],\n",
       "      dtype='object')"
      ]
     },
     "execution_count": 47,
     "metadata": {},
     "output_type": "execute_result"
    }
   ],
   "source": [
    "df.columns"
   ]
  },
  {
   "cell_type": "code",
   "execution_count": 48,
   "id": "2ffd0a48",
   "metadata": {},
   "outputs": [
    {
     "data": {
      "text/html": [
       "<div>\n",
       "<style scoped>\n",
       "    .dataframe tbody tr th:only-of-type {\n",
       "        vertical-align: middle;\n",
       "    }\n",
       "\n",
       "    .dataframe tbody tr th {\n",
       "        vertical-align: top;\n",
       "    }\n",
       "\n",
       "    .dataframe thead th {\n",
       "        text-align: right;\n",
       "    }\n",
       "</style>\n",
       "<table border=\"1\" class=\"dataframe\">\n",
       "  <thead>\n",
       "    <tr style=\"text-align: right;\">\n",
       "      <th></th>\n",
       "      <th>Gender</th>\n",
       "      <th>Customer Type</th>\n",
       "      <th>Age</th>\n",
       "      <th>Type of Travel</th>\n",
       "      <th>Class</th>\n",
       "      <th>Flight Distance</th>\n",
       "      <th>Inflight wifi service</th>\n",
       "      <th>Departure/Arrival time convenient</th>\n",
       "      <th>Ease of Online booking</th>\n",
       "      <th>Gate location</th>\n",
       "      <th>...</th>\n",
       "      <th>Inflight entertainment</th>\n",
       "      <th>On-board service</th>\n",
       "      <th>Leg room service</th>\n",
       "      <th>Baggage handling</th>\n",
       "      <th>Checkin service</th>\n",
       "      <th>Inflight service</th>\n",
       "      <th>Cleanliness</th>\n",
       "      <th>Departure Delay in Minutes</th>\n",
       "      <th>Arrival Delay in Minutes</th>\n",
       "      <th>satisfaction</th>\n",
       "    </tr>\n",
       "  </thead>\n",
       "  <tbody>\n",
       "    <tr>\n",
       "      <th>0</th>\n",
       "      <td>Male</td>\n",
       "      <td>Loyal Customer</td>\n",
       "      <td>13</td>\n",
       "      <td>Personal Travel</td>\n",
       "      <td>Eco Plus</td>\n",
       "      <td>460</td>\n",
       "      <td>3</td>\n",
       "      <td>4</td>\n",
       "      <td>3</td>\n",
       "      <td>1</td>\n",
       "      <td>...</td>\n",
       "      <td>5</td>\n",
       "      <td>4</td>\n",
       "      <td>3</td>\n",
       "      <td>4</td>\n",
       "      <td>4</td>\n",
       "      <td>5</td>\n",
       "      <td>5</td>\n",
       "      <td>25</td>\n",
       "      <td>18.0</td>\n",
       "      <td>neutral or dissatisfied</td>\n",
       "    </tr>\n",
       "    <tr>\n",
       "      <th>1</th>\n",
       "      <td>Male</td>\n",
       "      <td>disloyal Customer</td>\n",
       "      <td>25</td>\n",
       "      <td>Business travel</td>\n",
       "      <td>Business</td>\n",
       "      <td>235</td>\n",
       "      <td>3</td>\n",
       "      <td>2</td>\n",
       "      <td>3</td>\n",
       "      <td>3</td>\n",
       "      <td>...</td>\n",
       "      <td>1</td>\n",
       "      <td>1</td>\n",
       "      <td>5</td>\n",
       "      <td>3</td>\n",
       "      <td>1</td>\n",
       "      <td>4</td>\n",
       "      <td>1</td>\n",
       "      <td>1</td>\n",
       "      <td>6.0</td>\n",
       "      <td>neutral or dissatisfied</td>\n",
       "    </tr>\n",
       "    <tr>\n",
       "      <th>2</th>\n",
       "      <td>Female</td>\n",
       "      <td>Loyal Customer</td>\n",
       "      <td>26</td>\n",
       "      <td>Business travel</td>\n",
       "      <td>Business</td>\n",
       "      <td>1142</td>\n",
       "      <td>2</td>\n",
       "      <td>2</td>\n",
       "      <td>2</td>\n",
       "      <td>2</td>\n",
       "      <td>...</td>\n",
       "      <td>5</td>\n",
       "      <td>4</td>\n",
       "      <td>3</td>\n",
       "      <td>4</td>\n",
       "      <td>4</td>\n",
       "      <td>4</td>\n",
       "      <td>5</td>\n",
       "      <td>0</td>\n",
       "      <td>0.0</td>\n",
       "      <td>satisfied</td>\n",
       "    </tr>\n",
       "    <tr>\n",
       "      <th>3</th>\n",
       "      <td>Female</td>\n",
       "      <td>Loyal Customer</td>\n",
       "      <td>25</td>\n",
       "      <td>Business travel</td>\n",
       "      <td>Business</td>\n",
       "      <td>562</td>\n",
       "      <td>2</td>\n",
       "      <td>5</td>\n",
       "      <td>5</td>\n",
       "      <td>5</td>\n",
       "      <td>...</td>\n",
       "      <td>2</td>\n",
       "      <td>2</td>\n",
       "      <td>5</td>\n",
       "      <td>3</td>\n",
       "      <td>1</td>\n",
       "      <td>4</td>\n",
       "      <td>2</td>\n",
       "      <td>11</td>\n",
       "      <td>9.0</td>\n",
       "      <td>neutral or dissatisfied</td>\n",
       "    </tr>\n",
       "    <tr>\n",
       "      <th>4</th>\n",
       "      <td>Male</td>\n",
       "      <td>Loyal Customer</td>\n",
       "      <td>61</td>\n",
       "      <td>Business travel</td>\n",
       "      <td>Business</td>\n",
       "      <td>214</td>\n",
       "      <td>3</td>\n",
       "      <td>3</td>\n",
       "      <td>3</td>\n",
       "      <td>3</td>\n",
       "      <td>...</td>\n",
       "      <td>3</td>\n",
       "      <td>3</td>\n",
       "      <td>4</td>\n",
       "      <td>4</td>\n",
       "      <td>3</td>\n",
       "      <td>3</td>\n",
       "      <td>3</td>\n",
       "      <td>0</td>\n",
       "      <td>0.0</td>\n",
       "      <td>satisfied</td>\n",
       "    </tr>\n",
       "  </tbody>\n",
       "</table>\n",
       "<p>5 rows × 23 columns</p>\n",
       "</div>"
      ],
      "text/plain": [
       "   Gender      Customer Type  Age   Type of Travel     Class  Flight Distance  \\\n",
       "0    Male     Loyal Customer   13  Personal Travel  Eco Plus              460   \n",
       "1    Male  disloyal Customer   25  Business travel  Business              235   \n",
       "2  Female     Loyal Customer   26  Business travel  Business             1142   \n",
       "3  Female     Loyal Customer   25  Business travel  Business              562   \n",
       "4    Male     Loyal Customer   61  Business travel  Business              214   \n",
       "\n",
       "   Inflight wifi service  Departure/Arrival time convenient  \\\n",
       "0                      3                                  4   \n",
       "1                      3                                  2   \n",
       "2                      2                                  2   \n",
       "3                      2                                  5   \n",
       "4                      3                                  3   \n",
       "\n",
       "   Ease of Online booking  Gate location  ...  Inflight entertainment  \\\n",
       "0                       3              1  ...                       5   \n",
       "1                       3              3  ...                       1   \n",
       "2                       2              2  ...                       5   \n",
       "3                       5              5  ...                       2   \n",
       "4                       3              3  ...                       3   \n",
       "\n",
       "   On-board service  Leg room service  Baggage handling  Checkin service  \\\n",
       "0                 4                 3                 4                4   \n",
       "1                 1                 5                 3                1   \n",
       "2                 4                 3                 4                4   \n",
       "3                 2                 5                 3                1   \n",
       "4                 3                 4                 4                3   \n",
       "\n",
       "   Inflight service  Cleanliness  Departure Delay in Minutes  \\\n",
       "0                 5            5                          25   \n",
       "1                 4            1                           1   \n",
       "2                 4            5                           0   \n",
       "3                 4            2                          11   \n",
       "4                 3            3                           0   \n",
       "\n",
       "   Arrival Delay in Minutes             satisfaction  \n",
       "0                      18.0  neutral or dissatisfied  \n",
       "1                       6.0  neutral or dissatisfied  \n",
       "2                       0.0                satisfied  \n",
       "3                       9.0  neutral or dissatisfied  \n",
       "4                       0.0                satisfied  \n",
       "\n",
       "[5 rows x 23 columns]"
      ]
     },
     "execution_count": 48,
     "metadata": {},
     "output_type": "execute_result"
    }
   ],
   "source": [
    "df.head()"
   ]
  },
  {
   "cell_type": "code",
   "execution_count": 49,
   "id": "4c15d20b",
   "metadata": {},
   "outputs": [
    {
     "data": {
      "text/html": [
       "<div>\n",
       "<style scoped>\n",
       "    .dataframe tbody tr th:only-of-type {\n",
       "        vertical-align: middle;\n",
       "    }\n",
       "\n",
       "    .dataframe tbody tr th {\n",
       "        vertical-align: top;\n",
       "    }\n",
       "\n",
       "    .dataframe thead th {\n",
       "        text-align: right;\n",
       "    }\n",
       "</style>\n",
       "<table border=\"1\" class=\"dataframe\">\n",
       "  <thead>\n",
       "    <tr style=\"text-align: right;\">\n",
       "      <th></th>\n",
       "      <th>Age</th>\n",
       "      <th>Flight Distance</th>\n",
       "      <th>Inflight wifi service</th>\n",
       "      <th>Departure/Arrival time convenient</th>\n",
       "      <th>Ease of Online booking</th>\n",
       "      <th>Gate location</th>\n",
       "      <th>Food and drink</th>\n",
       "      <th>Online boarding</th>\n",
       "      <th>Seat comfort</th>\n",
       "      <th>Inflight entertainment</th>\n",
       "      <th>On-board service</th>\n",
       "      <th>Leg room service</th>\n",
       "      <th>Baggage handling</th>\n",
       "      <th>Checkin service</th>\n",
       "      <th>Inflight service</th>\n",
       "      <th>Cleanliness</th>\n",
       "      <th>Departure Delay in Minutes</th>\n",
       "      <th>Arrival Delay in Minutes</th>\n",
       "    </tr>\n",
       "  </thead>\n",
       "  <tbody>\n",
       "    <tr>\n",
       "      <th>count</th>\n",
       "      <td>129880.00</td>\n",
       "      <td>129880.00</td>\n",
       "      <td>129880.00</td>\n",
       "      <td>129880.00</td>\n",
       "      <td>129880.00</td>\n",
       "      <td>129880.00</td>\n",
       "      <td>129880.00</td>\n",
       "      <td>129880.00</td>\n",
       "      <td>129880.00</td>\n",
       "      <td>129880.00</td>\n",
       "      <td>129880.00</td>\n",
       "      <td>129880.00</td>\n",
       "      <td>129880.00</td>\n",
       "      <td>129880.00</td>\n",
       "      <td>129880.00</td>\n",
       "      <td>129880.00</td>\n",
       "      <td>129880.00</td>\n",
       "      <td>129487.00</td>\n",
       "    </tr>\n",
       "    <tr>\n",
       "      <th>mean</th>\n",
       "      <td>39.43</td>\n",
       "      <td>1190.32</td>\n",
       "      <td>2.73</td>\n",
       "      <td>3.06</td>\n",
       "      <td>2.76</td>\n",
       "      <td>2.98</td>\n",
       "      <td>3.20</td>\n",
       "      <td>3.25</td>\n",
       "      <td>3.44</td>\n",
       "      <td>3.36</td>\n",
       "      <td>3.38</td>\n",
       "      <td>3.35</td>\n",
       "      <td>3.63</td>\n",
       "      <td>3.31</td>\n",
       "      <td>3.64</td>\n",
       "      <td>3.29</td>\n",
       "      <td>14.71</td>\n",
       "      <td>15.09</td>\n",
       "    </tr>\n",
       "    <tr>\n",
       "      <th>std</th>\n",
       "      <td>15.12</td>\n",
       "      <td>997.45</td>\n",
       "      <td>1.33</td>\n",
       "      <td>1.53</td>\n",
       "      <td>1.40</td>\n",
       "      <td>1.28</td>\n",
       "      <td>1.33</td>\n",
       "      <td>1.35</td>\n",
       "      <td>1.32</td>\n",
       "      <td>1.33</td>\n",
       "      <td>1.29</td>\n",
       "      <td>1.32</td>\n",
       "      <td>1.18</td>\n",
       "      <td>1.27</td>\n",
       "      <td>1.18</td>\n",
       "      <td>1.31</td>\n",
       "      <td>38.07</td>\n",
       "      <td>38.47</td>\n",
       "    </tr>\n",
       "    <tr>\n",
       "      <th>min</th>\n",
       "      <td>7.00</td>\n",
       "      <td>31.00</td>\n",
       "      <td>0.00</td>\n",
       "      <td>0.00</td>\n",
       "      <td>0.00</td>\n",
       "      <td>0.00</td>\n",
       "      <td>0.00</td>\n",
       "      <td>0.00</td>\n",
       "      <td>0.00</td>\n",
       "      <td>0.00</td>\n",
       "      <td>0.00</td>\n",
       "      <td>0.00</td>\n",
       "      <td>1.00</td>\n",
       "      <td>0.00</td>\n",
       "      <td>0.00</td>\n",
       "      <td>0.00</td>\n",
       "      <td>0.00</td>\n",
       "      <td>0.00</td>\n",
       "    </tr>\n",
       "    <tr>\n",
       "      <th>25%</th>\n",
       "      <td>27.00</td>\n",
       "      <td>414.00</td>\n",
       "      <td>2.00</td>\n",
       "      <td>2.00</td>\n",
       "      <td>2.00</td>\n",
       "      <td>2.00</td>\n",
       "      <td>2.00</td>\n",
       "      <td>2.00</td>\n",
       "      <td>2.00</td>\n",
       "      <td>2.00</td>\n",
       "      <td>2.00</td>\n",
       "      <td>2.00</td>\n",
       "      <td>3.00</td>\n",
       "      <td>3.00</td>\n",
       "      <td>3.00</td>\n",
       "      <td>2.00</td>\n",
       "      <td>0.00</td>\n",
       "      <td>0.00</td>\n",
       "    </tr>\n",
       "    <tr>\n",
       "      <th>50%</th>\n",
       "      <td>40.00</td>\n",
       "      <td>844.00</td>\n",
       "      <td>3.00</td>\n",
       "      <td>3.00</td>\n",
       "      <td>3.00</td>\n",
       "      <td>3.00</td>\n",
       "      <td>3.00</td>\n",
       "      <td>3.00</td>\n",
       "      <td>4.00</td>\n",
       "      <td>4.00</td>\n",
       "      <td>4.00</td>\n",
       "      <td>4.00</td>\n",
       "      <td>4.00</td>\n",
       "      <td>3.00</td>\n",
       "      <td>4.00</td>\n",
       "      <td>3.00</td>\n",
       "      <td>0.00</td>\n",
       "      <td>0.00</td>\n",
       "    </tr>\n",
       "    <tr>\n",
       "      <th>75%</th>\n",
       "      <td>51.00</td>\n",
       "      <td>1744.00</td>\n",
       "      <td>4.00</td>\n",
       "      <td>4.00</td>\n",
       "      <td>4.00</td>\n",
       "      <td>4.00</td>\n",
       "      <td>4.00</td>\n",
       "      <td>4.00</td>\n",
       "      <td>5.00</td>\n",
       "      <td>4.00</td>\n",
       "      <td>4.00</td>\n",
       "      <td>4.00</td>\n",
       "      <td>5.00</td>\n",
       "      <td>4.00</td>\n",
       "      <td>5.00</td>\n",
       "      <td>4.00</td>\n",
       "      <td>12.00</td>\n",
       "      <td>13.00</td>\n",
       "    </tr>\n",
       "    <tr>\n",
       "      <th>max</th>\n",
       "      <td>85.00</td>\n",
       "      <td>4983.00</td>\n",
       "      <td>5.00</td>\n",
       "      <td>5.00</td>\n",
       "      <td>5.00</td>\n",
       "      <td>5.00</td>\n",
       "      <td>5.00</td>\n",
       "      <td>5.00</td>\n",
       "      <td>5.00</td>\n",
       "      <td>5.00</td>\n",
       "      <td>5.00</td>\n",
       "      <td>5.00</td>\n",
       "      <td>5.00</td>\n",
       "      <td>5.00</td>\n",
       "      <td>5.00</td>\n",
       "      <td>5.00</td>\n",
       "      <td>1592.00</td>\n",
       "      <td>1584.00</td>\n",
       "    </tr>\n",
       "  </tbody>\n",
       "</table>\n",
       "</div>"
      ],
      "text/plain": [
       "             Age  Flight Distance  Inflight wifi service  \\\n",
       "count  129880.00        129880.00              129880.00   \n",
       "mean       39.43          1190.32                   2.73   \n",
       "std        15.12           997.45                   1.33   \n",
       "min         7.00            31.00                   0.00   \n",
       "25%        27.00           414.00                   2.00   \n",
       "50%        40.00           844.00                   3.00   \n",
       "75%        51.00          1744.00                   4.00   \n",
       "max        85.00          4983.00                   5.00   \n",
       "\n",
       "       Departure/Arrival time convenient  Ease of Online booking  \\\n",
       "count                          129880.00               129880.00   \n",
       "mean                                3.06                    2.76   \n",
       "std                                 1.53                    1.40   \n",
       "min                                 0.00                    0.00   \n",
       "25%                                 2.00                    2.00   \n",
       "50%                                 3.00                    3.00   \n",
       "75%                                 4.00                    4.00   \n",
       "max                                 5.00                    5.00   \n",
       "\n",
       "       Gate location  Food and drink  Online boarding  Seat comfort  \\\n",
       "count      129880.00       129880.00        129880.00     129880.00   \n",
       "mean            2.98            3.20             3.25          3.44   \n",
       "std             1.28            1.33             1.35          1.32   \n",
       "min             0.00            0.00             0.00          0.00   \n",
       "25%             2.00            2.00             2.00          2.00   \n",
       "50%             3.00            3.00             3.00          4.00   \n",
       "75%             4.00            4.00             4.00          5.00   \n",
       "max             5.00            5.00             5.00          5.00   \n",
       "\n",
       "       Inflight entertainment  On-board service  Leg room service  \\\n",
       "count               129880.00         129880.00         129880.00   \n",
       "mean                     3.36              3.38              3.35   \n",
       "std                      1.33              1.29              1.32   \n",
       "min                      0.00              0.00              0.00   \n",
       "25%                      2.00              2.00              2.00   \n",
       "50%                      4.00              4.00              4.00   \n",
       "75%                      4.00              4.00              4.00   \n",
       "max                      5.00              5.00              5.00   \n",
       "\n",
       "       Baggage handling  Checkin service  Inflight service  Cleanliness  \\\n",
       "count         129880.00        129880.00         129880.00    129880.00   \n",
       "mean               3.63             3.31              3.64         3.29   \n",
       "std                1.18             1.27              1.18         1.31   \n",
       "min                1.00             0.00              0.00         0.00   \n",
       "25%                3.00             3.00              3.00         2.00   \n",
       "50%                4.00             3.00              4.00         3.00   \n",
       "75%                5.00             4.00              5.00         4.00   \n",
       "max                5.00             5.00              5.00         5.00   \n",
       "\n",
       "       Departure Delay in Minutes  Arrival Delay in Minutes  \n",
       "count                   129880.00                 129487.00  \n",
       "mean                        14.71                     15.09  \n",
       "std                         38.07                     38.47  \n",
       "min                          0.00                      0.00  \n",
       "25%                          0.00                      0.00  \n",
       "50%                          0.00                      0.00  \n",
       "75%                         12.00                     13.00  \n",
       "max                       1592.00                   1584.00  "
      ]
     },
     "execution_count": 49,
     "metadata": {},
     "output_type": "execute_result"
    }
   ],
   "source": [
    "round(df.describe(), 2)"
   ]
  },
  {
   "cell_type": "code",
   "execution_count": 50,
   "id": "995a5d24",
   "metadata": {},
   "outputs": [
    {
     "name": "stdout",
     "output_type": "stream",
     "text": [
      "<class 'pandas.core.frame.DataFrame'>\n",
      "Int64Index: 129880 entries, 0 to 25975\n",
      "Data columns (total 23 columns):\n",
      " #   Column                             Non-Null Count   Dtype  \n",
      "---  ------                             --------------   -----  \n",
      " 0   Gender                             129880 non-null  object \n",
      " 1   Customer Type                      129880 non-null  object \n",
      " 2   Age                                129880 non-null  int64  \n",
      " 3   Type of Travel                     129880 non-null  object \n",
      " 4   Class                              129880 non-null  object \n",
      " 5   Flight Distance                    129880 non-null  int64  \n",
      " 6   Inflight wifi service              129880 non-null  int64  \n",
      " 7   Departure/Arrival time convenient  129880 non-null  int64  \n",
      " 8   Ease of Online booking             129880 non-null  int64  \n",
      " 9   Gate location                      129880 non-null  int64  \n",
      " 10  Food and drink                     129880 non-null  int64  \n",
      " 11  Online boarding                    129880 non-null  int64  \n",
      " 12  Seat comfort                       129880 non-null  int64  \n",
      " 13  Inflight entertainment             129880 non-null  int64  \n",
      " 14  On-board service                   129880 non-null  int64  \n",
      " 15  Leg room service                   129880 non-null  int64  \n",
      " 16  Baggage handling                   129880 non-null  int64  \n",
      " 17  Checkin service                    129880 non-null  int64  \n",
      " 18  Inflight service                   129880 non-null  int64  \n",
      " 19  Cleanliness                        129880 non-null  int64  \n",
      " 20  Departure Delay in Minutes         129880 non-null  int64  \n",
      " 21  Arrival Delay in Minutes           129487 non-null  float64\n",
      " 22  satisfaction                       129880 non-null  object \n",
      "dtypes: float64(1), int64(17), object(5)\n",
      "memory usage: 23.8+ MB\n"
     ]
    }
   ],
   "source": [
    "df.info()\n",
    "# We have 22 total features, 1 target value. Most of the features are Numerical, 5 of them are categorical. \n",
    "# The target variable is also categorical"
   ]
  },
  {
   "cell_type": "code",
   "execution_count": 51,
   "id": "78af7ad3",
   "metadata": {},
   "outputs": [],
   "source": [
    "# change column names\n",
    "df.columns = df.columns.str.lower().str.replace(' ', '_')\n"
   ]
  },
  {
   "cell_type": "code",
   "execution_count": 52,
   "id": "a38349e7",
   "metadata": {},
   "outputs": [
    {
     "data": {
      "text/plain": [
       "gender                               0\n",
       "customer_type                        0\n",
       "age                                  0\n",
       "type_of_travel                       0\n",
       "class                                0\n",
       "flight_distance                      0\n",
       "inflight_wifi_service                0\n",
       "departure/arrival_time_convenient    0\n",
       "ease_of_online_booking               0\n",
       "gate_location                        0\n",
       "food_and_drink                       0\n",
       "online_boarding                      0\n",
       "seat_comfort                         0\n",
       "inflight_entertainment               0\n",
       "on-board_service                     0\n",
       "leg_room_service                     0\n",
       "baggage_handling                     0\n",
       "checkin_service                      0\n",
       "inflight_service                     0\n",
       "cleanliness                          0\n",
       "departure_delay_in_minutes           0\n",
       "arrival_delay_in_minutes             0\n",
       "satisfaction                         0\n",
       "dtype: int64"
      ]
     },
     "execution_count": 52,
     "metadata": {},
     "output_type": "execute_result"
    }
   ],
   "source": [
    "# fill in null values for Arrival Delay\n",
    "df = df.fillna(0)\n",
    "df.isnull().sum()"
   ]
  },
  {
   "cell_type": "code",
   "execution_count": 53,
   "id": "e7bfb54b",
   "metadata": {},
   "outputs": [
    {
     "data": {
      "text/plain": [
       "['age',\n",
       " 'flight_distance',\n",
       " 'inflight_wifi_service',\n",
       " 'departure/arrival_time_convenient',\n",
       " 'ease_of_online_booking',\n",
       " 'gate_location',\n",
       " 'food_and_drink',\n",
       " 'online_boarding',\n",
       " 'seat_comfort',\n",
       " 'inflight_entertainment',\n",
       " 'on-board_service',\n",
       " 'leg_room_service',\n",
       " 'baggage_handling',\n",
       " 'checkin_service',\n",
       " 'inflight_service',\n",
       " 'cleanliness',\n",
       " 'departure_delay_in_minutes']"
      ]
     },
     "execution_count": 53,
     "metadata": {},
     "output_type": "execute_result"
    }
   ],
   "source": [
    "# check for unique values in categorical columns.\n",
    "# get categorical columns and covert to list\n",
    "categoricals = df.select_dtypes('object').columns.tolist()\n",
    "# get numerical columns and convert to a list\n",
    "numericals = df.select_dtypes('int64', 'float64').columns.tolist()\n",
    "numericals"
   ]
  },
  {
   "cell_type": "code",
   "execution_count": 54,
   "id": "27337eb9",
   "metadata": {},
   "outputs": [
    {
     "data": {
      "text/plain": [
       "{'gender': ['Male', 'Female'],\n",
       " 'customer_type': ['Loyal Customer', 'disloyal Customer'],\n",
       " 'type_of_travel': ['Personal Travel', 'Business travel'],\n",
       " 'class': ['Eco Plus', 'Business', 'Eco'],\n",
       " 'satisfaction': ['neutral or dissatisfied', 'satisfied']}"
      ]
     },
     "execution_count": 54,
     "metadata": {},
     "output_type": "execute_result"
    }
   ],
   "source": [
    "unique_col_values = {}\n",
    "# check for the unique vales in each column\n",
    "# Change the values to lower case \n",
    "df_copy = df.copy()\n",
    "\n",
    "for category in categoricals:\n",
    "    unique_col_values[category] = df[category].unique().tolist()\n",
    "    df_copy[category] = df_copy[category].str.lower().str.replace(' ', '_')\n",
    "unique_col_values"
   ]
  },
  {
   "cell_type": "code",
   "execution_count": 55,
   "id": "ede9333b",
   "metadata": {},
   "outputs": [
    {
     "data": {
      "text/html": [
       "<div>\n",
       "<style scoped>\n",
       "    .dataframe tbody tr th:only-of-type {\n",
       "        vertical-align: middle;\n",
       "    }\n",
       "\n",
       "    .dataframe tbody tr th {\n",
       "        vertical-align: top;\n",
       "    }\n",
       "\n",
       "    .dataframe thead th {\n",
       "        text-align: right;\n",
       "    }\n",
       "</style>\n",
       "<table border=\"1\" class=\"dataframe\">\n",
       "  <thead>\n",
       "    <tr style=\"text-align: right;\">\n",
       "      <th></th>\n",
       "      <th>gender</th>\n",
       "      <th>customer_type</th>\n",
       "      <th>age</th>\n",
       "      <th>type_of_travel</th>\n",
       "      <th>class</th>\n",
       "      <th>flight_distance</th>\n",
       "      <th>inflight_wifi_service</th>\n",
       "      <th>departure/arrival_time_convenient</th>\n",
       "      <th>ease_of_online_booking</th>\n",
       "      <th>gate_location</th>\n",
       "      <th>...</th>\n",
       "      <th>inflight_entertainment</th>\n",
       "      <th>on-board_service</th>\n",
       "      <th>leg_room_service</th>\n",
       "      <th>baggage_handling</th>\n",
       "      <th>checkin_service</th>\n",
       "      <th>inflight_service</th>\n",
       "      <th>cleanliness</th>\n",
       "      <th>departure_delay_in_minutes</th>\n",
       "      <th>arrival_delay_in_minutes</th>\n",
       "      <th>satisfaction</th>\n",
       "    </tr>\n",
       "  </thead>\n",
       "  <tbody>\n",
       "    <tr>\n",
       "      <th>0</th>\n",
       "      <td>male</td>\n",
       "      <td>loyal_customer</td>\n",
       "      <td>13</td>\n",
       "      <td>personal_travel</td>\n",
       "      <td>eco_plus</td>\n",
       "      <td>460</td>\n",
       "      <td>3</td>\n",
       "      <td>4</td>\n",
       "      <td>3</td>\n",
       "      <td>1</td>\n",
       "      <td>...</td>\n",
       "      <td>5</td>\n",
       "      <td>4</td>\n",
       "      <td>3</td>\n",
       "      <td>4</td>\n",
       "      <td>4</td>\n",
       "      <td>5</td>\n",
       "      <td>5</td>\n",
       "      <td>25</td>\n",
       "      <td>18.0</td>\n",
       "      <td>neutral_or_dissatisfied</td>\n",
       "    </tr>\n",
       "    <tr>\n",
       "      <th>1</th>\n",
       "      <td>male</td>\n",
       "      <td>disloyal_customer</td>\n",
       "      <td>25</td>\n",
       "      <td>business_travel</td>\n",
       "      <td>business</td>\n",
       "      <td>235</td>\n",
       "      <td>3</td>\n",
       "      <td>2</td>\n",
       "      <td>3</td>\n",
       "      <td>3</td>\n",
       "      <td>...</td>\n",
       "      <td>1</td>\n",
       "      <td>1</td>\n",
       "      <td>5</td>\n",
       "      <td>3</td>\n",
       "      <td>1</td>\n",
       "      <td>4</td>\n",
       "      <td>1</td>\n",
       "      <td>1</td>\n",
       "      <td>6.0</td>\n",
       "      <td>neutral_or_dissatisfied</td>\n",
       "    </tr>\n",
       "    <tr>\n",
       "      <th>2</th>\n",
       "      <td>female</td>\n",
       "      <td>loyal_customer</td>\n",
       "      <td>26</td>\n",
       "      <td>business_travel</td>\n",
       "      <td>business</td>\n",
       "      <td>1142</td>\n",
       "      <td>2</td>\n",
       "      <td>2</td>\n",
       "      <td>2</td>\n",
       "      <td>2</td>\n",
       "      <td>...</td>\n",
       "      <td>5</td>\n",
       "      <td>4</td>\n",
       "      <td>3</td>\n",
       "      <td>4</td>\n",
       "      <td>4</td>\n",
       "      <td>4</td>\n",
       "      <td>5</td>\n",
       "      <td>0</td>\n",
       "      <td>0.0</td>\n",
       "      <td>satisfied</td>\n",
       "    </tr>\n",
       "    <tr>\n",
       "      <th>3</th>\n",
       "      <td>female</td>\n",
       "      <td>loyal_customer</td>\n",
       "      <td>25</td>\n",
       "      <td>business_travel</td>\n",
       "      <td>business</td>\n",
       "      <td>562</td>\n",
       "      <td>2</td>\n",
       "      <td>5</td>\n",
       "      <td>5</td>\n",
       "      <td>5</td>\n",
       "      <td>...</td>\n",
       "      <td>2</td>\n",
       "      <td>2</td>\n",
       "      <td>5</td>\n",
       "      <td>3</td>\n",
       "      <td>1</td>\n",
       "      <td>4</td>\n",
       "      <td>2</td>\n",
       "      <td>11</td>\n",
       "      <td>9.0</td>\n",
       "      <td>neutral_or_dissatisfied</td>\n",
       "    </tr>\n",
       "    <tr>\n",
       "      <th>4</th>\n",
       "      <td>male</td>\n",
       "      <td>loyal_customer</td>\n",
       "      <td>61</td>\n",
       "      <td>business_travel</td>\n",
       "      <td>business</td>\n",
       "      <td>214</td>\n",
       "      <td>3</td>\n",
       "      <td>3</td>\n",
       "      <td>3</td>\n",
       "      <td>3</td>\n",
       "      <td>...</td>\n",
       "      <td>3</td>\n",
       "      <td>3</td>\n",
       "      <td>4</td>\n",
       "      <td>4</td>\n",
       "      <td>3</td>\n",
       "      <td>3</td>\n",
       "      <td>3</td>\n",
       "      <td>0</td>\n",
       "      <td>0.0</td>\n",
       "      <td>satisfied</td>\n",
       "    </tr>\n",
       "  </tbody>\n",
       "</table>\n",
       "<p>5 rows × 23 columns</p>\n",
       "</div>"
      ],
      "text/plain": [
       "   gender      customer_type  age   type_of_travel     class  flight_distance  \\\n",
       "0    male     loyal_customer   13  personal_travel  eco_plus              460   \n",
       "1    male  disloyal_customer   25  business_travel  business              235   \n",
       "2  female     loyal_customer   26  business_travel  business             1142   \n",
       "3  female     loyal_customer   25  business_travel  business              562   \n",
       "4    male     loyal_customer   61  business_travel  business              214   \n",
       "\n",
       "   inflight_wifi_service  departure/arrival_time_convenient  \\\n",
       "0                      3                                  4   \n",
       "1                      3                                  2   \n",
       "2                      2                                  2   \n",
       "3                      2                                  5   \n",
       "4                      3                                  3   \n",
       "\n",
       "   ease_of_online_booking  gate_location  ...  inflight_entertainment  \\\n",
       "0                       3              1  ...                       5   \n",
       "1                       3              3  ...                       1   \n",
       "2                       2              2  ...                       5   \n",
       "3                       5              5  ...                       2   \n",
       "4                       3              3  ...                       3   \n",
       "\n",
       "   on-board_service  leg_room_service  baggage_handling  checkin_service  \\\n",
       "0                 4                 3                 4                4   \n",
       "1                 1                 5                 3                1   \n",
       "2                 4                 3                 4                4   \n",
       "3                 2                 5                 3                1   \n",
       "4                 3                 4                 4                3   \n",
       "\n",
       "   inflight_service  cleanliness  departure_delay_in_minutes  \\\n",
       "0                 5            5                          25   \n",
       "1                 4            1                           1   \n",
       "2                 4            5                           0   \n",
       "3                 4            2                          11   \n",
       "4                 3            3                           0   \n",
       "\n",
       "   arrival_delay_in_minutes             satisfaction  \n",
       "0                      18.0  neutral_or_dissatisfied  \n",
       "1                       6.0  neutral_or_dissatisfied  \n",
       "2                       0.0                satisfied  \n",
       "3                       9.0  neutral_or_dissatisfied  \n",
       "4                       0.0                satisfied  \n",
       "\n",
       "[5 rows x 23 columns]"
      ]
     },
     "execution_count": 55,
     "metadata": {},
     "output_type": "execute_result"
    }
   ],
   "source": [
    "df_copy.head()"
   ]
  },
  {
   "cell_type": "code",
   "execution_count": 56,
   "id": "9ce0c5e4",
   "metadata": {},
   "outputs": [],
   "source": [
    "target_data = df['satisfaction'].value_counts(True)"
   ]
  },
  {
   "cell_type": "code",
   "execution_count": 57,
   "id": "7ef98d25",
   "metadata": {},
   "outputs": [
    {
     "data": {
      "text/plain": [
       "neutral or dissatisfied    0.565537\n",
       "satisfied                  0.434463\n",
       "Name: satisfaction, dtype: float64"
      ]
     },
     "execution_count": 57,
     "metadata": {},
     "output_type": "execute_result"
    }
   ],
   "source": [
    "target_data"
   ]
  },
  {
   "cell_type": "code",
   "execution_count": 58,
   "id": "146962a2",
   "metadata": {},
   "outputs": [],
   "source": [
    "# The target data shows that more than half the people are unsatisfied with the flight."
   ]
  },
  {
   "cell_type": "code",
   "execution_count": 59,
   "id": "e22390a5",
   "metadata": {},
   "outputs": [
    {
     "data": {
      "text/plain": [
       "([<matplotlib.patches.Wedge at 0x12cd4c550>,\n",
       "  <matplotlib.patches.Wedge at 0x134e552d0>],\n",
       " [Text(-0.22488421808296188, 1.0767669610724575, 'unsatisfied'),\n",
       "  Text(0.22488411726876187, -1.0767669821276329, 'satisfied')],\n",
       " [Text(-0.12266411895434283, 0.5873274333122495, '56.6%'),\n",
       "  Text(0.12266406396477919, -0.5873274447968906, '43.4%')])"
      ]
     },
     "execution_count": 59,
     "metadata": {},
     "output_type": "execute_result"
    },
    {
     "data": {
      "image/png": "[encoded data removed]",
      "text/plain": [
       "<Figure size 640x480 with 1 Axes>"
      ]
     },
     "metadata": {},
     "output_type": "display_data"
    }
   ],
   "source": [
    "plt.pie(target_data, colors=['lightgreen', 'lightblue'], labels=['unsatisfied', 'satisfied'], autopct='%1.1f%%')"
   ]
  },
  {
   "cell_type": "code",
   "execution_count": 60,
   "id": "252bd255",
   "metadata": {},
   "outputs": [
    {
     "data": {
      "text/plain": [
       "[('inflight_wifi_service', 2.729),\n",
       " ('departure/arrival_time_convenient', 3.058),\n",
       " ('ease_of_online_booking', 2.757),\n",
       " ('gate_location', 2.977),\n",
       " ('food_and_drink', 3.205),\n",
       " ('online_boarding', 3.253),\n",
       " ('seat_comfort', 3.441),\n",
       " ('inflight_entertainment', 3.358),\n",
       " ('on-board_service', 3.383),\n",
       " ('leg_room_service', 3.351),\n",
       " ('baggage_handling', 3.632),\n",
       " ('checkin_service', 3.306),\n",
       " ('inflight_service', 3.642),\n",
       " ('cleanliness', 3.286)]"
      ]
     },
     "execution_count": 60,
     "metadata": {},
     "output_type": "execute_result"
    }
   ],
   "source": [
    "# Lets review the avg. ratings for each column\n",
    "# Remove the non-rating values\n",
    "non_rating_cols = ['age', 'flight_distance', 'departure_delay_in_minutes']\n",
    "ratings = [col for col in numericals if col not in non_rating_cols]\n",
    "\n",
    "[(col, round(df[col].mean(), 3)) for col in ratings]"
   ]
  },
  {
   "cell_type": "markdown",
   "id": "6f378c39",
   "metadata": {},
   "source": [
    "The two highest scores are for inflight-service and baggage handling. The rest are close to 3 as averages. "
   ]
  },
  {
   "cell_type": "markdown",
   "id": "8d9208c1",
   "metadata": {},
   "source": [
    "Lets see distrubution of values for each rating"
   ]
  },
  {
   "cell_type": "code",
   "execution_count": 61,
   "id": "a7c089dc",
   "metadata": {
    "scrolled": false
   },
   "outputs": [
    {
     "data": {
      "text/plain": [
       "{'inflight_wifi_service': 6,\n",
       " 'departure/arrival_time_convenient': 6,\n",
       " 'ease_of_online_booking': 6,\n",
       " 'gate_location': 6,\n",
       " 'food_and_drink': 6,\n",
       " 'online_boarding': 6,\n",
       " 'seat_comfort': 6,\n",
       " 'inflight_entertainment': 6,\n",
       " 'on-board_service': 6,\n",
       " 'leg_room_service': 6,\n",
       " 'baggage_handling': 5,\n",
       " 'checkin_service': 6,\n",
       " 'inflight_service': 6,\n",
       " 'cleanliness': 6}"
      ]
     },
     "execution_count": 61,
     "metadata": {},
     "output_type": "execute_result"
    }
   ],
   "source": [
    "# Count number of unique values for ratings columns\n",
    "unique_ratings = {col: df_copy[col].nunique() for col in ratings}\n",
    "unique_ratings\n",
    "# all have 6, (0 is for not applicable) except for baggage handling.\n",
    "# lets remove the '0' values\n"
   ]
  },
  {
   "cell_type": "code",
   "execution_count": 62,
   "id": "7d09e097",
   "metadata": {},
   "outputs": [
    {
     "data": {
      "text/plain": [
       "{'inflight_wifi_service': 5,\n",
       " 'departure/arrival_time_convenient': 5,\n",
       " 'ease_of_online_booking': 5,\n",
       " 'gate_location': 5,\n",
       " 'food_and_drink': 5,\n",
       " 'online_boarding': 5,\n",
       " 'seat_comfort': 5,\n",
       " 'inflight_entertainment': 5,\n",
       " 'on-board_service': 5,\n",
       " 'leg_room_service': 5,\n",
       " 'baggage_handling': 5,\n",
       " 'checkin_service': 5,\n",
       " 'inflight_service': 5,\n",
       " 'cleanliness': 5}"
      ]
     },
     "execution_count": 62,
     "metadata": {},
     "output_type": "execute_result"
    }
   ],
   "source": [
    "df_clean = df_copy.copy()\n",
    "\n",
    "for k, v in unique_ratings.items():\n",
    "    df_clean = df_clean[(df_clean[k] != 0)]\n",
    "{col: df_clean[col].nunique() for col in ratings}"
   ]
  },
  {
   "cell_type": "code",
   "execution_count": 63,
   "id": "4a61d023",
   "metadata": {
    "scrolled": false
   },
   "outputs": [
    {
     "name": "stdout",
     "output_type": "stream",
     "text": [
      "inflight_wifi_service\n"
     ]
    },
    {
     "data": {
      "image/png": "[encoded data removed]",
      "text/plain": [
       "<Figure size 640x480 with 1 Axes>"
      ]
     },
     "metadata": {},
     "output_type": "display_data"
    },
    {
     "name": "stdout",
     "output_type": "stream",
     "text": [
      "departure/arrival_time_convenient\n"
     ]
    },
    {
     "data": {
      "image/png": "[encoded data removed]",
      "text/plain": [
       "<Figure size 640x480 with 1 Axes>"
      ]
     },
     "metadata": {},
     "output_type": "display_data"
    },
    {
     "name": "stdout",
     "output_type": "stream",
     "text": [
      "ease_of_online_booking\n"
     ]
    },
    {
     "data": {
      "image/png": "[encoded data removed]",
      "text/plain": [
       "<Figure size 640x480 with 1 Axes>"
      ]
     },
     "metadata": {},
     "output_type": "display_data"
    },
    {
     "name": "stdout",
     "output_type": "stream",
     "text": [
      "gate_location\n"
     ]
    },
    {
     "data": {
      "image/png": "[encoded data removed]",
      "text/plain": [
       "<Figure size 640x480 with 1 Axes>"
      ]
     },
     "metadata": {},
     "output_type": "display_data"
    },
    {
     "name": "stdout",
     "output_type": "stream",
     "text": [
      "food_and_drink\n"
     ]
    },
    {
     "data": {
      "image/png": "[encoded data removed]",
      "text/plain": [
       "<Figure size 640x480 with 1 Axes>"
      ]
     },
     "metadata": {},
     "output_type": "display_data"
    },
    {
     "name": "stdout",
     "output_type": "stream",
     "text": [
      "online_boarding\n"
     ]
    },
    {
     "data": {
      "image/png": "[encoded data removed]",
      "text/plain": [
       "<Figure size 640x480 with 1 Axes>"
      ]
     },
     "metadata": {},
     "output_type": "display_data"
    },
    {
     "name": "stdout",
     "output_type": "stream",
     "text": [
      "seat_comfort\n"
     ]
    },
    {
     "data": {
      "image/png": "[encoded data removed]",
      "text/plain": [
       "<Figure size 640x480 with 1 Axes>"
      ]
     },
     "metadata": {},
     "output_type": "display_data"
    },
    {
     "name": "stdout",
     "output_type": "stream",
     "text": [
      "inflight_entertainment\n"
     ]
    },
    {
     "data": {
      "image/png": "[encoded data removed]",
      "text/plain": [
       "<Figure size 640x480 with 1 Axes>"
      ]
     },
     "metadata": {},
     "output_type": "display_data"
    },
    {
     "name": "stdout",
     "output_type": "stream",
     "text": [
      "on-board_service\n"
     ]
    },
    {
     "data": {
      "image/png": "[encoded data removed]",
      "text/plain": [
       "<Figure size 640x480 with 1 Axes>"
      ]
     },
     "metadata": {},
     "output_type": "display_data"
    },
    {
     "name": "stdout",
     "output_type": "stream",
     "text": [
      "leg_room_service\n"
     ]
    },
    {
     "data": {
      "image/png": "[encoded data removed]",
      "text/plain": [
       "<Figure size 640x480 with 1 Axes>"
      ]
     },
     "metadata": {},
     "output_type": "display_data"
    },
    {
     "name": "stdout",
     "output_type": "stream",
     "text": [
      "baggage_handling\n"
     ]
    },
    {
     "data": {
      "image/png": "[encoded data removed]",
      "text/plain": [
       "<Figure size 640x480 with 1 Axes>"
      ]
     },
     "metadata": {},
     "output_type": "display_data"
    },
    {
     "name": "stdout",
     "output_type": "stream",
     "text": [
      "checkin_service\n"
     ]
    },
    {
     "data": {
      "image/png": "[encoded data removed]",
      "text/plain": [
       "<Figure size 640x480 with 1 Axes>"
      ]
     },
     "metadata": {},
     "output_type": "display_data"
    },
    {
     "name": "stdout",
     "output_type": "stream",
     "text": [
      "inflight_service\n"
     ]
    },
    {
     "data": {
      "image/png": "[encoded data removed]",
      "text/plain": [
       "<Figure size 640x480 with 1 Axes>"
      ]
     },
     "metadata": {},
     "output_type": "display_data"
    },
    {
     "name": "stdout",
     "output_type": "stream",
     "text": [
      "cleanliness\n"
     ]
    },
    {
     "data": {
      "image/png": "[encoded data removed]",
      "text/plain": [
       "<Figure size 640x480 with 1 Axes>"
      ]
     },
     "metadata": {},
     "output_type": "display_data"
    }
   ],
   "source": [
    "# Some of the ratings have a '0' values for 'Not Applicable'. This is causing noise and should be removed to clean up the model. \n",
    "# While plotting the original values, it causes an error because one of the ratings has no '0' values\n",
    "\n",
    "for rating in ratings:\n",
    "    print(rating)\n",
    "    values = df_clean[rating].value_counts(True).sort_index()\n",
    "    rate = range(1,6)\n",
    "    plt.bar(rate, values)\n",
    "    plt.ylabel('%-Value counts')\n",
    "    plt.xlabel(rating)\n",
    "    plt.show()\n",
    "    display()"
   ]
  },
  {
   "cell_type": "code",
   "execution_count": 64,
   "id": "09096e35",
   "metadata": {},
   "outputs": [],
   "source": [
    "# Time to train our model now that data is clean\n",
    "from sklearn.model_selection import train_test_split\n",
    "from sklearn.feature_extraction import DictVectorizer\n",
    "from sklearn.ensemble import RandomForestClassifier\n",
    "from sklearn.tree import DecisionTreeClassifier\n",
    "import pickle\n",
    "from sklearn.metrics import roc_auc_score\n",
    "from sklearn.tree import export_text\n",
    "import xgboost as xgb\n",
    "from sklearn.metrics import accuracy_score, balanced_accuracy_score, precision_score, recall_score\n",
    "from sklearn.metrics import f1_score, roc_auc_score, roc_curve, auc\n"
   ]
  },
  {
   "cell_type": "code",
   "execution_count": 65,
   "id": "0c3bcbb7",
   "metadata": {},
   "outputs": [],
   "source": [
    "df_full_train, df_test = train_test_split(df_clean, test_size=0.2, random_state=7)\n",
    "df_train, df_val = train_test_split(df_full_train, test_size=0.25, random_state=7)\n",
    "df_train = df_train.reset_index(drop=True)\n",
    "df_val = df_val.reset_index(drop=True)\n",
    "df_test = df_test.reset_index(drop=True)\n",
    "# Let convert the statuses to 1 and 0\n",
    "# y_train values/Target values == satisfaction\n",
    "# if satisfied, 1. if unsatisfied, 0\n",
    "y_train = (df_train.satisfaction == 'satisfied').astype('int').values\n",
    "y_val = (df_val.satisfaction == 'satisfied').astype('int').values\n",
    "y_test = (df_test.satisfaction == 'satisfied').astype('int').values\n",
    "del df_train['satisfaction']\n",
    "del df_val['satisfaction']\n",
    "del df_test['satisfaction']"
   ]
  },
  {
   "cell_type": "code",
   "execution_count": 66,
   "id": "79305d0f",
   "metadata": {},
   "outputs": [],
   "source": [
    "# Decision Tree"
   ]
  },
  {
   "cell_type": "code",
   "execution_count": 67,
   "id": "a6a0080b",
   "metadata": {},
   "outputs": [],
   "source": [
    "train_dicts = df_train.fillna(0).to_dict(orient='records')\n",
    "dv = DictVectorizer(sparse=False)\n",
    "X_train = dv.fit_transform(train_dicts)\n",
    "features = dv.get_feature_names_out()"
   ]
  },
  {
   "cell_type": "code",
   "execution_count": 68,
   "id": "5346793f",
   "metadata": {},
   "outputs": [
    {
     "data": {
      "text/html": [
       "<style>#sk-container-id-4 {color: black;}#sk-container-id-4 pre{padding: 0;}#sk-container-id-4 div.sk-toggleable {background-color: white;}#sk-container-id-4 label.sk-toggleable__label {cursor: pointer;display: block;width: 100%;margin-bottom: 0;padding: 0.3em;box-sizing: border-box;text-align: center;}#sk-container-id-4 label.sk-toggleable__label-arrow:before {content: \"▸\";float: left;margin-right: 0.25em;color: #696969;}#sk-container-id-4 label.sk-toggleable__label-arrow:hover:before {color: black;}#sk-container-id-4 div.sk-estimator:hover label.sk-toggleable__label-arrow:before {color: black;}#sk-container-id-4 div.sk-toggleable__content {max-height: 0;max-width: 0;overflow: hidden;text-align: left;background-color: #f0f8ff;}#sk-container-id-4 div.sk-toggleable__content pre {margin: 0.2em;color: black;border-radius: 0.25em;background-color: #f0f8ff;}#sk-container-id-4 input.sk-toggleable__control:checked~div.sk-toggleable__content {max-height: 200px;max-width: 100%;overflow: auto;}#sk-container-id-4 input.sk-toggleable__control:checked~label.sk-toggleable__label-arrow:before {content: \"▾\";}#sk-container-id-4 div.sk-estimator input.sk-toggleable__control:checked~label.sk-toggleable__label {background-color: #d4ebff;}#sk-container-id-4 div.sk-label input.sk-toggleable__control:checked~label.sk-toggleable__label {background-color: #d4ebff;}#sk-container-id-4 input.sk-hidden--visually {border: 0;clip: rect(1px 1px 1px 1px);clip: rect(1px, 1px, 1px, 1px);height: 1px;margin: -1px;overflow: hidden;padding: 0;position: absolute;width: 1px;}#sk-container-id-4 div.sk-estimator {font-family: monospace;background-color: #f0f8ff;border: 1px dotted black;border-radius: 0.25em;box-sizing: border-box;margin-bottom: 0.5em;}#sk-container-id-4 div.sk-estimator:hover {background-color: #d4ebff;}#sk-container-id-4 div.sk-parallel-item::after {content: \"\";width: 100%;border-bottom: 1px solid gray;flex-grow: 1;}#sk-container-id-4 div.sk-label:hover label.sk-toggleable__label {background-color: #d4ebff;}#sk-container-id-4 div.sk-serial::before {content: \"\";position: absolute;border-left: 1px solid gray;box-sizing: border-box;top: 0;bottom: 0;left: 50%;z-index: 0;}#sk-container-id-4 div.sk-serial {display: flex;flex-direction: column;align-items: center;background-color: white;padding-right: 0.2em;padding-left: 0.2em;position: relative;}#sk-container-id-4 div.sk-item {position: relative;z-index: 1;}#sk-container-id-4 div.sk-parallel {display: flex;align-items: stretch;justify-content: center;background-color: white;position: relative;}#sk-container-id-4 div.sk-item::before, #sk-container-id-4 div.sk-parallel-item::before {content: \"\";position: absolute;border-left: 1px solid gray;box-sizing: border-box;top: 0;bottom: 0;left: 50%;z-index: -1;}#sk-container-id-4 div.sk-parallel-item {display: flex;flex-direction: column;z-index: 1;position: relative;background-color: white;}#sk-container-id-4 div.sk-parallel-item:first-child::after {align-self: flex-end;width: 50%;}#sk-container-id-4 div.sk-parallel-item:last-child::after {align-self: flex-start;width: 50%;}#sk-container-id-4 div.sk-parallel-item:only-child::after {width: 0;}#sk-container-id-4 div.sk-dashed-wrapped {border: 1px dashed gray;margin: 0 0.4em 0.5em 0.4em;box-sizing: border-box;padding-bottom: 0.4em;background-color: white;}#sk-container-id-4 div.sk-label label {font-family: monospace;font-weight: bold;display: inline-block;line-height: 1.2em;}#sk-container-id-4 div.sk-label-container {text-align: center;}#sk-container-id-4 div.sk-container {/* jupyter's `normalize.less` sets `[hidden] { display: none; }` but bootstrap.min.css set `[hidden] { display: none !important; }` so we also need the `!important` here to be able to override the default hidden behavior on the sphinx rendered scikit-learn.org. See: https://github.com/scikit-learn/scikit-learn/issues/21755 */display: inline-block !important;position: relative;}#sk-container-id-4 div.sk-text-repr-fallback {display: none;}</style><div id=\"sk-container-id-4\" class=\"sk-top-container\"><div class=\"sk-text-repr-fallback\"><pre>DecisionTreeClassifier()</pre><b>In a Jupyter environment, please rerun this cell to show the HTML representation or trust the notebook. <br />On GitHub, the HTML representation is unable to render, please try loading this page with nbviewer.org.</b></div><div class=\"sk-container\" hidden><div class=\"sk-item\"><div class=\"sk-estimator sk-toggleable\"><input class=\"sk-toggleable__control sk-hidden--visually\" id=\"sk-estimator-id-4\" type=\"checkbox\" checked><label for=\"sk-estimator-id-4\" class=\"sk-toggleable__label sk-toggleable__label-arrow\">DecisionTreeClassifier</label><div class=\"sk-toggleable__content\"><pre>DecisionTreeClassifier()</pre></div></div></div></div></div>"
      ],
      "text/plain": [
       "DecisionTreeClassifier()"
      ]
     },
     "execution_count": 68,
     "metadata": {},
     "output_type": "execute_result"
    }
   ],
   "source": [
    "dt = DecisionTreeClassifier()\n",
    "dt.fit(X_train, y_train)"
   ]
  },
  {
   "cell_type": "code",
   "execution_count": 69,
   "id": "9122a3a0",
   "metadata": {},
   "outputs": [
    {
     "data": {
      "text/plain": [
       "0.9438503334251847"
      ]
     },
     "execution_count": 69,
     "metadata": {},
     "output_type": "execute_result"
    }
   ],
   "source": [
    "val_dicts = df_val.fillna(0).to_dict(orient='records')\n",
    "X_val = dv.transform(val_dicts)\n",
    "y_pred = dt.predict(X_val)\n",
    "roc_auc_score(y_val, y_pred)"
   ]
  },
  {
   "cell_type": "code",
   "execution_count": 70,
   "id": "f69a69bf",
   "metadata": {},
   "outputs": [
    {
     "data": {
      "text/plain": [
       "1.0"
      ]
     },
     "execution_count": 70,
     "metadata": {},
     "output_type": "execute_result"
    }
   ],
   "source": [
    "y_pred = dt.predict(X_train)\n",
    "roc_auc_score(y_train, y_pred)"
   ]
  },
  {
   "cell_type": "code",
   "execution_count": 71,
   "id": "71e29547",
   "metadata": {},
   "outputs": [],
   "source": [
    "# Very high prediction score and perfect 1.0 on df_train. Our model is overfit."
   ]
  },
  {
   "cell_type": "code",
   "execution_count": 72,
   "id": "d3d05113",
   "metadata": {},
   "outputs": [
    {
     "data": {
      "text/plain": [
       "0.8682034553082704"
      ]
     },
     "execution_count": 72,
     "metadata": {},
     "output_type": "execute_result"
    }
   ],
   "source": [
    "dt = DecisionTreeClassifier(max_depth=2)\n",
    "dt.fit(X_train, y_train)\n",
    "y_pred = dt.predict(X_val)\n",
    "roc_auc_score(y_val, y_pred)\n"
   ]
  },
  {
   "cell_type": "code",
   "execution_count": 73,
   "id": "0fa5000a",
   "metadata": {},
   "outputs": [
    {
     "data": {
      "text/plain": [
       "0.8703599872589614"
      ]
     },
     "execution_count": 73,
     "metadata": {},
     "output_type": "execute_result"
    }
   ],
   "source": [
    "y_pred_train = dt.predict(X_train)\n",
    "roc_auc_score(y_train, y_pred_train)"
   ]
  },
  {
   "cell_type": "code",
   "execution_count": 74,
   "id": "e26eeaff",
   "metadata": {},
   "outputs": [
    {
     "name": "stdout",
     "output_type": "stream",
     "text": [
      "|--- online_boarding <= 3.50\n",
      "|   |--- inflight_wifi_service <= 3.50\n",
      "|   |   |--- class: 0\n",
      "|   |--- inflight_wifi_service >  3.50\n",
      "|   |   |--- class: 1\n",
      "|--- online_boarding >  3.50\n",
      "|   |--- type_of_travel=business_travel <= 0.50\n",
      "|   |   |--- class: 0\n",
      "|   |--- type_of_travel=business_travel >  0.50\n",
      "|   |   |--- class: 1\n",
      "\n"
     ]
    }
   ],
   "source": [
    "print(export_text(dt, feature_names=dv.get_feature_names_out()))\n",
    "# We get some interesting scores when we try a max_depth of [1,2,3,4,5,6]. Lets Tune it and map them all out."
   ]
  },
  {
   "cell_type": "code",
   "execution_count": 75,
   "id": "6b219fd7",
   "metadata": {},
   "outputs": [
    {
     "name": "stdout",
     "output_type": "stream",
     "text": [
      "   1 -> 0.803\n",
      "   2 -> 0.868\n",
      "   3 -> 0.877\n",
      "   4 -> 0.884\n",
      "   5 -> 0.918\n",
      "   6 -> 0.920\n",
      "  10 -> 0.942\n",
      "None -> 0.944\n"
     ]
    }
   ],
   "source": [
    "for d in [1 ,2,3,4,5,6,10, None]:\n",
    "    dt = DecisionTreeClassifier(max_depth=d)\n",
    "    dt.fit(X_train, y_train)\n",
    "    \n",
    "    y_pred = dt.predict(X_val)\n",
    "    auc = roc_auc_score(y_val, y_pred)\n",
    "    \n",
    "    print('%4s -> %.3f' %(d, auc))"
   ]
  },
  {
   "cell_type": "code",
   "execution_count": 76,
   "id": "ba881588",
   "metadata": {},
   "outputs": [],
   "source": [
    "# Show a large jump from 1 to 2. Looks like 6 maybe our best value to avoid overfitting"
   ]
  },
  {
   "cell_type": "code",
   "execution_count": 77,
   "id": "aa91e114",
   "metadata": {},
   "outputs": [],
   "source": [
    "# Now we will take the depths and iterate over the other parameters\n",
    "\n",
    "\n",
    "scores = []\n",
    "for d in [2, 3, 4, 5, 6]:\n",
    "    for s in [1, 2, 5, 10, 15, 20, 40, 80, 150]:\n",
    "        dt = DecisionTreeClassifier(max_depth=d, min_samples_leaf=s)\n",
    "        dt.fit(X_train, y_train)\n",
    "\n",
    "        y_pred = dt.predict(X_val)\n",
    "        auc = roc_auc_score(y_val, y_pred)\n",
    "        scores.append((d, s, round(auc, 4)))"
   ]
  },
  {
   "cell_type": "code",
   "execution_count": 78,
   "id": "049c4071",
   "metadata": {},
   "outputs": [
    {
     "data": {
      "text/html": [
       "<div>\n",
       "<style scoped>\n",
       "    .dataframe tbody tr th:only-of-type {\n",
       "        vertical-align: middle;\n",
       "    }\n",
       "\n",
       "    .dataframe tbody tr th {\n",
       "        vertical-align: top;\n",
       "    }\n",
       "\n",
       "    .dataframe thead th {\n",
       "        text-align: right;\n",
       "    }\n",
       "</style>\n",
       "<table border=\"1\" class=\"dataframe\">\n",
       "  <thead>\n",
       "    <tr style=\"text-align: right;\">\n",
       "      <th></th>\n",
       "      <th>max_depth</th>\n",
       "      <th>min_samples_leaf</th>\n",
       "      <th>auc</th>\n",
       "    </tr>\n",
       "  </thead>\n",
       "  <tbody>\n",
       "    <tr>\n",
       "      <th>40</th>\n",
       "      <td>6</td>\n",
       "      <td>15</td>\n",
       "      <td>0.9202</td>\n",
       "    </tr>\n",
       "    <tr>\n",
       "      <th>39</th>\n",
       "      <td>6</td>\n",
       "      <td>10</td>\n",
       "      <td>0.9202</td>\n",
       "    </tr>\n",
       "    <tr>\n",
       "      <th>37</th>\n",
       "      <td>6</td>\n",
       "      <td>2</td>\n",
       "      <td>0.9202</td>\n",
       "    </tr>\n",
       "    <tr>\n",
       "      <th>36</th>\n",
       "      <td>6</td>\n",
       "      <td>1</td>\n",
       "      <td>0.9202</td>\n",
       "    </tr>\n",
       "    <tr>\n",
       "      <th>38</th>\n",
       "      <td>6</td>\n",
       "      <td>5</td>\n",
       "      <td>0.9201</td>\n",
       "    </tr>\n",
       "    <tr>\n",
       "      <th>41</th>\n",
       "      <td>6</td>\n",
       "      <td>20</td>\n",
       "      <td>0.9198</td>\n",
       "    </tr>\n",
       "    <tr>\n",
       "      <th>42</th>\n",
       "      <td>6</td>\n",
       "      <td>40</td>\n",
       "      <td>0.9197</td>\n",
       "    </tr>\n",
       "    <tr>\n",
       "      <th>43</th>\n",
       "      <td>6</td>\n",
       "      <td>80</td>\n",
       "      <td>0.9189</td>\n",
       "    </tr>\n",
       "    <tr>\n",
       "      <th>44</th>\n",
       "      <td>6</td>\n",
       "      <td>150</td>\n",
       "      <td>0.9176</td>\n",
       "    </tr>\n",
       "    <tr>\n",
       "      <th>29</th>\n",
       "      <td>5</td>\n",
       "      <td>5</td>\n",
       "      <td>0.9175</td>\n",
       "    </tr>\n",
       "    <tr>\n",
       "      <th>27</th>\n",
       "      <td>5</td>\n",
       "      <td>1</td>\n",
       "      <td>0.9175</td>\n",
       "    </tr>\n",
       "    <tr>\n",
       "      <th>28</th>\n",
       "      <td>5</td>\n",
       "      <td>2</td>\n",
       "      <td>0.9175</td>\n",
       "    </tr>\n",
       "    <tr>\n",
       "      <th>33</th>\n",
       "      <td>5</td>\n",
       "      <td>40</td>\n",
       "      <td>0.9175</td>\n",
       "    </tr>\n",
       "    <tr>\n",
       "      <th>32</th>\n",
       "      <td>5</td>\n",
       "      <td>20</td>\n",
       "      <td>0.9175</td>\n",
       "    </tr>\n",
       "    <tr>\n",
       "      <th>31</th>\n",
       "      <td>5</td>\n",
       "      <td>15</td>\n",
       "      <td>0.9175</td>\n",
       "    </tr>\n",
       "    <tr>\n",
       "      <th>30</th>\n",
       "      <td>5</td>\n",
       "      <td>10</td>\n",
       "      <td>0.9175</td>\n",
       "    </tr>\n",
       "    <tr>\n",
       "      <th>34</th>\n",
       "      <td>5</td>\n",
       "      <td>80</td>\n",
       "      <td>0.9170</td>\n",
       "    </tr>\n",
       "    <tr>\n",
       "      <th>35</th>\n",
       "      <td>5</td>\n",
       "      <td>150</td>\n",
       "      <td>0.9170</td>\n",
       "    </tr>\n",
       "    <tr>\n",
       "      <th>23</th>\n",
       "      <td>4</td>\n",
       "      <td>20</td>\n",
       "      <td>0.8837</td>\n",
       "    </tr>\n",
       "    <tr>\n",
       "      <th>26</th>\n",
       "      <td>4</td>\n",
       "      <td>150</td>\n",
       "      <td>0.8837</td>\n",
       "    </tr>\n",
       "    <tr>\n",
       "      <th>25</th>\n",
       "      <td>4</td>\n",
       "      <td>80</td>\n",
       "      <td>0.8837</td>\n",
       "    </tr>\n",
       "    <tr>\n",
       "      <th>24</th>\n",
       "      <td>4</td>\n",
       "      <td>40</td>\n",
       "      <td>0.8837</td>\n",
       "    </tr>\n",
       "    <tr>\n",
       "      <th>22</th>\n",
       "      <td>4</td>\n",
       "      <td>15</td>\n",
       "      <td>0.8837</td>\n",
       "    </tr>\n",
       "    <tr>\n",
       "      <th>20</th>\n",
       "      <td>4</td>\n",
       "      <td>5</td>\n",
       "      <td>0.8837</td>\n",
       "    </tr>\n",
       "    <tr>\n",
       "      <th>19</th>\n",
       "      <td>4</td>\n",
       "      <td>2</td>\n",
       "      <td>0.8837</td>\n",
       "    </tr>\n",
       "    <tr>\n",
       "      <th>18</th>\n",
       "      <td>4</td>\n",
       "      <td>1</td>\n",
       "      <td>0.8837</td>\n",
       "    </tr>\n",
       "    <tr>\n",
       "      <th>21</th>\n",
       "      <td>4</td>\n",
       "      <td>10</td>\n",
       "      <td>0.8837</td>\n",
       "    </tr>\n",
       "    <tr>\n",
       "      <th>11</th>\n",
       "      <td>3</td>\n",
       "      <td>5</td>\n",
       "      <td>0.8767</td>\n",
       "    </tr>\n",
       "    <tr>\n",
       "      <th>13</th>\n",
       "      <td>3</td>\n",
       "      <td>15</td>\n",
       "      <td>0.8767</td>\n",
       "    </tr>\n",
       "    <tr>\n",
       "      <th>9</th>\n",
       "      <td>3</td>\n",
       "      <td>1</td>\n",
       "      <td>0.8767</td>\n",
       "    </tr>\n",
       "    <tr>\n",
       "      <th>10</th>\n",
       "      <td>3</td>\n",
       "      <td>2</td>\n",
       "      <td>0.8767</td>\n",
       "    </tr>\n",
       "    <tr>\n",
       "      <th>12</th>\n",
       "      <td>3</td>\n",
       "      <td>10</td>\n",
       "      <td>0.8767</td>\n",
       "    </tr>\n",
       "    <tr>\n",
       "      <th>14</th>\n",
       "      <td>3</td>\n",
       "      <td>20</td>\n",
       "      <td>0.8767</td>\n",
       "    </tr>\n",
       "    <tr>\n",
       "      <th>15</th>\n",
       "      <td>3</td>\n",
       "      <td>40</td>\n",
       "      <td>0.8767</td>\n",
       "    </tr>\n",
       "    <tr>\n",
       "      <th>16</th>\n",
       "      <td>3</td>\n",
       "      <td>80</td>\n",
       "      <td>0.8767</td>\n",
       "    </tr>\n",
       "    <tr>\n",
       "      <th>17</th>\n",
       "      <td>3</td>\n",
       "      <td>150</td>\n",
       "      <td>0.8767</td>\n",
       "    </tr>\n",
       "    <tr>\n",
       "      <th>5</th>\n",
       "      <td>2</td>\n",
       "      <td>20</td>\n",
       "      <td>0.8682</td>\n",
       "    </tr>\n",
       "    <tr>\n",
       "      <th>2</th>\n",
       "      <td>2</td>\n",
       "      <td>5</td>\n",
       "      <td>0.8682</td>\n",
       "    </tr>\n",
       "    <tr>\n",
       "      <th>3</th>\n",
       "      <td>2</td>\n",
       "      <td>10</td>\n",
       "      <td>0.8682</td>\n",
       "    </tr>\n",
       "    <tr>\n",
       "      <th>4</th>\n",
       "      <td>2</td>\n",
       "      <td>15</td>\n",
       "      <td>0.8682</td>\n",
       "    </tr>\n",
       "    <tr>\n",
       "      <th>1</th>\n",
       "      <td>2</td>\n",
       "      <td>2</td>\n",
       "      <td>0.8682</td>\n",
       "    </tr>\n",
       "    <tr>\n",
       "      <th>6</th>\n",
       "      <td>2</td>\n",
       "      <td>40</td>\n",
       "      <td>0.8682</td>\n",
       "    </tr>\n",
       "    <tr>\n",
       "      <th>7</th>\n",
       "      <td>2</td>\n",
       "      <td>80</td>\n",
       "      <td>0.8682</td>\n",
       "    </tr>\n",
       "    <tr>\n",
       "      <th>8</th>\n",
       "      <td>2</td>\n",
       "      <td>150</td>\n",
       "      <td>0.8682</td>\n",
       "    </tr>\n",
       "    <tr>\n",
       "      <th>0</th>\n",
       "      <td>2</td>\n",
       "      <td>1</td>\n",
       "      <td>0.8682</td>\n",
       "    </tr>\n",
       "  </tbody>\n",
       "</table>\n",
       "</div>"
      ],
      "text/plain": [
       "    max_depth  min_samples_leaf     auc\n",
       "40          6                15  0.9202\n",
       "39          6                10  0.9202\n",
       "37          6                 2  0.9202\n",
       "36          6                 1  0.9202\n",
       "38          6                 5  0.9201\n",
       "41          6                20  0.9198\n",
       "42          6                40  0.9197\n",
       "43          6                80  0.9189\n",
       "44          6               150  0.9176\n",
       "29          5                 5  0.9175\n",
       "27          5                 1  0.9175\n",
       "28          5                 2  0.9175\n",
       "33          5                40  0.9175\n",
       "32          5                20  0.9175\n",
       "31          5                15  0.9175\n",
       "30          5                10  0.9175\n",
       "34          5                80  0.9170\n",
       "35          5               150  0.9170\n",
       "23          4                20  0.8837\n",
       "26          4               150  0.8837\n",
       "25          4                80  0.8837\n",
       "24          4                40  0.8837\n",
       "22          4                15  0.8837\n",
       "20          4                 5  0.8837\n",
       "19          4                 2  0.8837\n",
       "18          4                 1  0.8837\n",
       "21          4                10  0.8837\n",
       "11          3                 5  0.8767\n",
       "13          3                15  0.8767\n",
       "9           3                 1  0.8767\n",
       "10          3                 2  0.8767\n",
       "12          3                10  0.8767\n",
       "14          3                20  0.8767\n",
       "15          3                40  0.8767\n",
       "16          3                80  0.8767\n",
       "17          3               150  0.8767\n",
       "5           2                20  0.8682\n",
       "2           2                 5  0.8682\n",
       "3           2                10  0.8682\n",
       "4           2                15  0.8682\n",
       "1           2                 2  0.8682\n",
       "6           2                40  0.8682\n",
       "7           2                80  0.8682\n",
       "8           2               150  0.8682\n",
       "0           2                 1  0.8682"
      ]
     },
     "execution_count": 78,
     "metadata": {},
     "output_type": "execute_result"
    }
   ],
   "source": [
    "df_scores = pd.DataFrame(scores, columns=['max_depth', 'min_samples_leaf', 'auc'])\n",
    "df_scores.sort_values(by='auc', ascending=False)\n"
   ]
  },
  {
   "cell_type": "code",
   "execution_count": 79,
   "id": "acf36673",
   "metadata": {},
   "outputs": [
    {
     "data": {
      "text/html": [
       "<style>#sk-container-id-5 {color: black;}#sk-container-id-5 pre{padding: 0;}#sk-container-id-5 div.sk-toggleable {background-color: white;}#sk-container-id-5 label.sk-toggleable__label {cursor: pointer;display: block;width: 100%;margin-bottom: 0;padding: 0.3em;box-sizing: border-box;text-align: center;}#sk-container-id-5 label.sk-toggleable__label-arrow:before {content: \"▸\";float: left;margin-right: 0.25em;color: #696969;}#sk-container-id-5 label.sk-toggleable__label-arrow:hover:before {color: black;}#sk-container-id-5 div.sk-estimator:hover label.sk-toggleable__label-arrow:before {color: black;}#sk-container-id-5 div.sk-toggleable__content {max-height: 0;max-width: 0;overflow: hidden;text-align: left;background-color: #f0f8ff;}#sk-container-id-5 div.sk-toggleable__content pre {margin: 0.2em;color: black;border-radius: 0.25em;background-color: #f0f8ff;}#sk-container-id-5 input.sk-toggleable__control:checked~div.sk-toggleable__content {max-height: 200px;max-width: 100%;overflow: auto;}#sk-container-id-5 input.sk-toggleable__control:checked~label.sk-toggleable__label-arrow:before {content: \"▾\";}#sk-container-id-5 div.sk-estimator input.sk-toggleable__control:checked~label.sk-toggleable__label {background-color: #d4ebff;}#sk-container-id-5 div.sk-label input.sk-toggleable__control:checked~label.sk-toggleable__label {background-color: #d4ebff;}#sk-container-id-5 input.sk-hidden--visually {border: 0;clip: rect(1px 1px 1px 1px);clip: rect(1px, 1px, 1px, 1px);height: 1px;margin: -1px;overflow: hidden;padding: 0;position: absolute;width: 1px;}#sk-container-id-5 div.sk-estimator {font-family: monospace;background-color: #f0f8ff;border: 1px dotted black;border-radius: 0.25em;box-sizing: border-box;margin-bottom: 0.5em;}#sk-container-id-5 div.sk-estimator:hover {background-color: #d4ebff;}#sk-container-id-5 div.sk-parallel-item::after {content: \"\";width: 100%;border-bottom: 1px solid gray;flex-grow: 1;}#sk-container-id-5 div.sk-label:hover label.sk-toggleable__label {background-color: #d4ebff;}#sk-container-id-5 div.sk-serial::before {content: \"\";position: absolute;border-left: 1px solid gray;box-sizing: border-box;top: 0;bottom: 0;left: 50%;z-index: 0;}#sk-container-id-5 div.sk-serial {display: flex;flex-direction: column;align-items: center;background-color: white;padding-right: 0.2em;padding-left: 0.2em;position: relative;}#sk-container-id-5 div.sk-item {position: relative;z-index: 1;}#sk-container-id-5 div.sk-parallel {display: flex;align-items: stretch;justify-content: center;background-color: white;position: relative;}#sk-container-id-5 div.sk-item::before, #sk-container-id-5 div.sk-parallel-item::before {content: \"\";position: absolute;border-left: 1px solid gray;box-sizing: border-box;top: 0;bottom: 0;left: 50%;z-index: -1;}#sk-container-id-5 div.sk-parallel-item {display: flex;flex-direction: column;z-index: 1;position: relative;background-color: white;}#sk-container-id-5 div.sk-parallel-item:first-child::after {align-self: flex-end;width: 50%;}#sk-container-id-5 div.sk-parallel-item:last-child::after {align-self: flex-start;width: 50%;}#sk-container-id-5 div.sk-parallel-item:only-child::after {width: 0;}#sk-container-id-5 div.sk-dashed-wrapped {border: 1px dashed gray;margin: 0 0.4em 0.5em 0.4em;box-sizing: border-box;padding-bottom: 0.4em;background-color: white;}#sk-container-id-5 div.sk-label label {font-family: monospace;font-weight: bold;display: inline-block;line-height: 1.2em;}#sk-container-id-5 div.sk-label-container {text-align: center;}#sk-container-id-5 div.sk-container {/* jupyter's `normalize.less` sets `[hidden] { display: none; }` but bootstrap.min.css set `[hidden] { display: none !important; }` so we also need the `!important` here to be able to override the default hidden behavior on the sphinx rendered scikit-learn.org. See: https://github.com/scikit-learn/scikit-learn/issues/21755 */display: inline-block !important;position: relative;}#sk-container-id-5 div.sk-text-repr-fallback {display: none;}</style><div id=\"sk-container-id-5\" class=\"sk-top-container\"><div class=\"sk-text-repr-fallback\"><pre>DecisionTreeClassifier(max_depth=6, min_samples_leaf=15)</pre><b>In a Jupyter environment, please rerun this cell to show the HTML representation or trust the notebook. <br />On GitHub, the HTML representation is unable to render, please try loading this page with nbviewer.org.</b></div><div class=\"sk-container\" hidden><div class=\"sk-item\"><div class=\"sk-estimator sk-toggleable\"><input class=\"sk-toggleable__control sk-hidden--visually\" id=\"sk-estimator-id-5\" type=\"checkbox\" checked><label for=\"sk-estimator-id-5\" class=\"sk-toggleable__label sk-toggleable__label-arrow\">DecisionTreeClassifier</label><div class=\"sk-toggleable__content\"><pre>DecisionTreeClassifier(max_depth=6, min_samples_leaf=15)</pre></div></div></div></div></div>"
      ],
      "text/plain": [
       "DecisionTreeClassifier(max_depth=6, min_samples_leaf=15)"
      ]
     },
     "execution_count": 79,
     "metadata": {},
     "output_type": "execute_result"
    }
   ],
   "source": [
    "# Now we define the final Model with our values\n",
    "dt = DecisionTreeClassifier(max_depth=6, min_samples_leaf=15)\n",
    "dt.fit(X_train, y_train)"
   ]
  },
  {
   "cell_type": "code",
   "execution_count": 80,
   "id": "0b118ddf",
   "metadata": {},
   "outputs": [
    {
     "data": {
      "text/html": [
       "<div>\n",
       "<style scoped>\n",
       "    .dataframe tbody tr th:only-of-type {\n",
       "        vertical-align: middle;\n",
       "    }\n",
       "\n",
       "    .dataframe tbody tr th {\n",
       "        vertical-align: top;\n",
       "    }\n",
       "\n",
       "    .dataframe thead th {\n",
       "        text-align: right;\n",
       "    }\n",
       "</style>\n",
       "<table border=\"1\" class=\"dataframe\">\n",
       "  <thead>\n",
       "    <tr style=\"text-align: right;\">\n",
       "      <th></th>\n",
       "      <th>Model Name</th>\n",
       "      <th>Accuracy</th>\n",
       "      <th>Precision</th>\n",
       "      <th>Recall</th>\n",
       "      <th>F1</th>\n",
       "      <th>ROC AUC</th>\n",
       "    </tr>\n",
       "  </thead>\n",
       "  <tbody>\n",
       "    <tr>\n",
       "      <th>0</th>\n",
       "      <td>Decision Tree</td>\n",
       "      <td>0.925734</td>\n",
       "      <td>0.9406</td>\n",
       "      <td>0.882134</td>\n",
       "      <td>0.91043</td>\n",
       "      <td>0.920237</td>\n",
       "    </tr>\n",
       "  </tbody>\n",
       "</table>\n",
       "</div>"
      ],
      "text/plain": [
       "      Model Name  Accuracy  Precision    Recall       F1   ROC AUC\n",
       "0  Decision Tree  0.925734     0.9406  0.882134  0.91043  0.920237"
      ]
     },
     "execution_count": 80,
     "metadata": {},
     "output_type": "execute_result"
    }
   ],
   "source": [
    "dt_pred = dt.predict(X_val)\n",
    "dt_scores  = pd.DataFrame(data = [['Decision Tree',\n",
    "                            accuracy_score(y_val, dt_pred),\n",
    "                            precision_score(y_val, dt_pred),\n",
    "                            recall_score(y_val, dt_pred), \n",
    "                            f1_score(y_val, dt_pred), \n",
    "                            roc_auc_score(y_val, dt_pred)]],\n",
    "                         columns = ['Model Name','Accuracy','Precision','Recall','F1','ROC AUC'])\n",
    "dt_scores"
   ]
  },
  {
   "cell_type": "code",
   "execution_count": 81,
   "id": "e6834432",
   "metadata": {},
   "outputs": [],
   "source": [
    "# Lets try a Random Forest Classifier\n"
   ]
  },
  {
   "cell_type": "code",
   "execution_count": 82,
   "id": "c145b9df",
   "metadata": {},
   "outputs": [
    {
     "data": {
      "text/html": [
       "<style>#sk-container-id-6 {color: black;}#sk-container-id-6 pre{padding: 0;}#sk-container-id-6 div.sk-toggleable {background-color: white;}#sk-container-id-6 label.sk-toggleable__label {cursor: pointer;display: block;width: 100%;margin-bottom: 0;padding: 0.3em;box-sizing: border-box;text-align: center;}#sk-container-id-6 label.sk-toggleable__label-arrow:before {content: \"▸\";float: left;margin-right: 0.25em;color: #696969;}#sk-container-id-6 label.sk-toggleable__label-arrow:hover:before {color: black;}#sk-container-id-6 div.sk-estimator:hover label.sk-toggleable__label-arrow:before {color: black;}#sk-container-id-6 div.sk-toggleable__content {max-height: 0;max-width: 0;overflow: hidden;text-align: left;background-color: #f0f8ff;}#sk-container-id-6 div.sk-toggleable__content pre {margin: 0.2em;color: black;border-radius: 0.25em;background-color: #f0f8ff;}#sk-container-id-6 input.sk-toggleable__control:checked~div.sk-toggleable__content {max-height: 200px;max-width: 100%;overflow: auto;}#sk-container-id-6 input.sk-toggleable__control:checked~label.sk-toggleable__label-arrow:before {content: \"▾\";}#sk-container-id-6 div.sk-estimator input.sk-toggleable__control:checked~label.sk-toggleable__label {background-color: #d4ebff;}#sk-container-id-6 div.sk-label input.sk-toggleable__control:checked~label.sk-toggleable__label {background-color: #d4ebff;}#sk-container-id-6 input.sk-hidden--visually {border: 0;clip: rect(1px 1px 1px 1px);clip: rect(1px, 1px, 1px, 1px);height: 1px;margin: -1px;overflow: hidden;padding: 0;position: absolute;width: 1px;}#sk-container-id-6 div.sk-estimator {font-family: monospace;background-color: #f0f8ff;border: 1px dotted black;border-radius: 0.25em;box-sizing: border-box;margin-bottom: 0.5em;}#sk-container-id-6 div.sk-estimator:hover {background-color: #d4ebff;}#sk-container-id-6 div.sk-parallel-item::after {content: \"\";width: 100%;border-bottom: 1px solid gray;flex-grow: 1;}#sk-container-id-6 div.sk-label:hover label.sk-toggleable__label {background-color: #d4ebff;}#sk-container-id-6 div.sk-serial::before {content: \"\";position: absolute;border-left: 1px solid gray;box-sizing: border-box;top: 0;bottom: 0;left: 50%;z-index: 0;}#sk-container-id-6 div.sk-serial {display: flex;flex-direction: column;align-items: center;background-color: white;padding-right: 0.2em;padding-left: 0.2em;position: relative;}#sk-container-id-6 div.sk-item {position: relative;z-index: 1;}#sk-container-id-6 div.sk-parallel {display: flex;align-items: stretch;justify-content: center;background-color: white;position: relative;}#sk-container-id-6 div.sk-item::before, #sk-container-id-6 div.sk-parallel-item::before {content: \"\";position: absolute;border-left: 1px solid gray;box-sizing: border-box;top: 0;bottom: 0;left: 50%;z-index: -1;}#sk-container-id-6 div.sk-parallel-item {display: flex;flex-direction: column;z-index: 1;position: relative;background-color: white;}#sk-container-id-6 div.sk-parallel-item:first-child::after {align-self: flex-end;width: 50%;}#sk-container-id-6 div.sk-parallel-item:last-child::after {align-self: flex-start;width: 50%;}#sk-container-id-6 div.sk-parallel-item:only-child::after {width: 0;}#sk-container-id-6 div.sk-dashed-wrapped {border: 1px dashed gray;margin: 0 0.4em 0.5em 0.4em;box-sizing: border-box;padding-bottom: 0.4em;background-color: white;}#sk-container-id-6 div.sk-label label {font-family: monospace;font-weight: bold;display: inline-block;line-height: 1.2em;}#sk-container-id-6 div.sk-label-container {text-align: center;}#sk-container-id-6 div.sk-container {/* jupyter's `normalize.less` sets `[hidden] { display: none; }` but bootstrap.min.css set `[hidden] { display: none !important; }` so we also need the `!important` here to be able to override the default hidden behavior on the sphinx rendered scikit-learn.org. See: https://github.com/scikit-learn/scikit-learn/issues/21755 */display: inline-block !important;position: relative;}#sk-container-id-6 div.sk-text-repr-fallback {display: none;}</style><div id=\"sk-container-id-6\" class=\"sk-top-container\"><div class=\"sk-text-repr-fallback\"><pre>RandomForestClassifier(n_estimators=1, random_state=7)</pre><b>In a Jupyter environment, please rerun this cell to show the HTML representation or trust the notebook. <br />On GitHub, the HTML representation is unable to render, please try loading this page with nbviewer.org.</b></div><div class=\"sk-container\" hidden><div class=\"sk-item\"><div class=\"sk-estimator sk-toggleable\"><input class=\"sk-toggleable__control sk-hidden--visually\" id=\"sk-estimator-id-6\" type=\"checkbox\" checked><label for=\"sk-estimator-id-6\" class=\"sk-toggleable__label sk-toggleable__label-arrow\">RandomForestClassifier</label><div class=\"sk-toggleable__content\"><pre>RandomForestClassifier(n_estimators=1, random_state=7)</pre></div></div></div></div></div>"
      ],
      "text/plain": [
       "RandomForestClassifier(n_estimators=1, random_state=7)"
      ]
     },
     "execution_count": 82,
     "metadata": {},
     "output_type": "execute_result"
    }
   ],
   "source": [
    "rf = RandomForestClassifier(n_estimators=1, random_state=7)\n",
    "rf.fit(X_train, y_train)"
   ]
  },
  {
   "cell_type": "code",
   "execution_count": 83,
   "id": "6bafc8ec",
   "metadata": {},
   "outputs": [
    {
     "data": {
      "text/plain": [
       "0.9272084182558847"
      ]
     },
     "execution_count": 83,
     "metadata": {},
     "output_type": "execute_result"
    }
   ],
   "source": [
    "y_pred = rf.predict_proba(X_val)[:,1]\n",
    "roc_auc_score(y_val, y_pred)\n"
   ]
  },
  {
   "cell_type": "code",
   "execution_count": 84,
   "id": "8a0fbc59",
   "metadata": {},
   "outputs": [],
   "source": [
    "scores = []\n",
    "for n in range(1, 10, 1):\n",
    "    rf = RandomForestClassifier(n_estimators=n, random_state=1)\n",
    "    rf.fit(X_train, y_train)\n",
    "    y_pred = rf.predict_proba(X_val)[:,1]\n",
    "    auc = roc_auc_score(y_val, y_pred)\n",
    "    scores.append((n, round(auc,4)))\n",
    "df_scores = pd.DataFrame(scores, columns=['n_estimators', 'auc'])\n"
   ]
  },
  {
   "cell_type": "code",
   "execution_count": 85,
   "id": "98b3d549",
   "metadata": {},
   "outputs": [
    {
     "data": {
      "text/plain": [
       "[<matplotlib.lines.Line2D at 0x1389c1b10>]"
      ]
     },
     "execution_count": 85,
     "metadata": {},
     "output_type": "execute_result"
    },
    {
     "data": {
      "image/png": "[encoded data removed]",
      "text/plain": [
       "<Figure size 640x480 with 1 Axes>"
      ]
     },
     "metadata": {},
     "output_type": "display_data"
    }
   ],
   "source": [
    "plt.plot(df_scores.n_estimators, df_scores.auc)\n",
    "# very high success rate. seems like we are overfitting"
   ]
  },
  {
   "cell_type": "code",
   "execution_count": 86,
   "id": "024fa4b9",
   "metadata": {},
   "outputs": [],
   "source": [
    "scores = []\n",
    "for d in [1, 2, 3, 4]:\n",
    "    for n in range(1, 5, 1):\n",
    "        rf = RandomForestClassifier(n_estimators=n, max_depth=d, random_state=1)\n",
    "        rf.fit(X_train, y_train)\n",
    "        y_pred = rf.predict_proba(X_val)[:,1]\n",
    "        auc = roc_auc_score(y_val, y_pred)\n",
    "        scores.append((d, n, round(auc,4)))"
   ]
  },
  {
   "cell_type": "code",
   "execution_count": 87,
   "id": "7771c799",
   "metadata": {},
   "outputs": [
    {
     "data": {
      "text/html": [
       "<div>\n",
       "<style scoped>\n",
       "    .dataframe tbody tr th:only-of-type {\n",
       "        vertical-align: middle;\n",
       "    }\n",
       "\n",
       "    .dataframe tbody tr th {\n",
       "        vertical-align: top;\n",
       "    }\n",
       "\n",
       "    .dataframe thead th {\n",
       "        text-align: right;\n",
       "    }\n",
       "</style>\n",
       "<table border=\"1\" class=\"dataframe\">\n",
       "  <thead>\n",
       "    <tr style=\"text-align: right;\">\n",
       "      <th></th>\n",
       "      <th>max_depth</th>\n",
       "      <th>n_estimators</th>\n",
       "      <th>auc</th>\n",
       "    </tr>\n",
       "  </thead>\n",
       "  <tbody>\n",
       "    <tr>\n",
       "      <th>15</th>\n",
       "      <td>4</td>\n",
       "      <td>4</td>\n",
       "      <td>0.9624</td>\n",
       "    </tr>\n",
       "    <tr>\n",
       "      <th>14</th>\n",
       "      <td>4</td>\n",
       "      <td>3</td>\n",
       "      <td>0.9594</td>\n",
       "    </tr>\n",
       "    <tr>\n",
       "      <th>11</th>\n",
       "      <td>3</td>\n",
       "      <td>4</td>\n",
       "      <td>0.9549</td>\n",
       "    </tr>\n",
       "    <tr>\n",
       "      <th>13</th>\n",
       "      <td>4</td>\n",
       "      <td>2</td>\n",
       "      <td>0.9549</td>\n",
       "    </tr>\n",
       "    <tr>\n",
       "      <th>10</th>\n",
       "      <td>3</td>\n",
       "      <td>3</td>\n",
       "      <td>0.9476</td>\n",
       "    </tr>\n",
       "  </tbody>\n",
       "</table>\n",
       "</div>"
      ],
      "text/plain": [
       "    max_depth  n_estimators     auc\n",
       "15          4             4  0.9624\n",
       "14          4             3  0.9594\n",
       "11          3             4  0.9549\n",
       "13          4             2  0.9549\n",
       "10          3             3  0.9476"
      ]
     },
     "execution_count": 87,
     "metadata": {},
     "output_type": "execute_result"
    }
   ],
   "source": [
    "df_scores = pd.DataFrame(scores, columns=['max_depth', 'n_estimators', 'auc'])\n",
    "df_scores.sort_values(by='auc', ascending=False).head()\n"
   ]
  },
  {
   "cell_type": "code",
   "execution_count": 88,
   "id": "a14206a0",
   "metadata": {},
   "outputs": [
    {
     "data": {
      "text/plain": [
       "<matplotlib.legend.Legend at 0x134d96e90>"
      ]
     },
     "execution_count": 88,
     "metadata": {},
     "output_type": "execute_result"
    },
    {
     "data": {
      "image/png": "[encoded data removed]",
      "text/plain": [
       "<Figure size 640x480 with 1 Axes>"
      ]
     },
     "metadata": {},
     "output_type": "display_data"
    }
   ],
   "source": [
    "for d in [1, 2, 3, 4]:\n",
    "    df_subset = df_scores[df_scores.max_depth == d]\n",
    "    plt.plot(df_subset.n_estimators, df_subset.auc, label='max_depth=%d' % d)\n",
    "    \n",
    "plt.legend()"
   ]
  },
  {
   "cell_type": "code",
   "execution_count": 89,
   "id": "0ea4700f",
   "metadata": {},
   "outputs": [],
   "source": [
    "scores = []\n",
    "max_depth = 2\n",
    "for s in [1, 3, 5, 10, 50]:\n",
    "    rf = RandomForestClassifier(n_estimators=2, max_depth=max_depth, min_samples_leaf=s, random_state=1)\n",
    "    rf.fit(X_train, y_train)\n",
    "    y_pred = rf.predict_proba(X_val)[:,1]\n",
    "    auc = roc_auc_score(y_val, y_pred)\n",
    "    scores.append((s, round(auc,4)))"
   ]
  },
  {
   "cell_type": "code",
   "execution_count": 90,
   "id": "a889f11c",
   "metadata": {},
   "outputs": [
    {
     "data": {
      "text/html": [
       "<div>\n",
       "<style scoped>\n",
       "    .dataframe tbody tr th:only-of-type {\n",
       "        vertical-align: middle;\n",
       "    }\n",
       "\n",
       "    .dataframe tbody tr th {\n",
       "        vertical-align: top;\n",
       "    }\n",
       "\n",
       "    .dataframe thead th {\n",
       "        text-align: right;\n",
       "    }\n",
       "</style>\n",
       "<table border=\"1\" class=\"dataframe\">\n",
       "  <thead>\n",
       "    <tr style=\"text-align: right;\">\n",
       "      <th></th>\n",
       "      <th>min_samples_leaf</th>\n",
       "      <th>auc</th>\n",
       "    </tr>\n",
       "  </thead>\n",
       "  <tbody>\n",
       "    <tr>\n",
       "      <th>0</th>\n",
       "      <td>1</td>\n",
       "      <td>0.9223</td>\n",
       "    </tr>\n",
       "    <tr>\n",
       "      <th>1</th>\n",
       "      <td>3</td>\n",
       "      <td>0.9223</td>\n",
       "    </tr>\n",
       "    <tr>\n",
       "      <th>2</th>\n",
       "      <td>5</td>\n",
       "      <td>0.9223</td>\n",
       "    </tr>\n",
       "    <tr>\n",
       "      <th>3</th>\n",
       "      <td>10</td>\n",
       "      <td>0.9223</td>\n",
       "    </tr>\n",
       "    <tr>\n",
       "      <th>4</th>\n",
       "      <td>50</td>\n",
       "      <td>0.9223</td>\n",
       "    </tr>\n",
       "  </tbody>\n",
       "</table>\n",
       "</div>"
      ],
      "text/plain": [
       "   min_samples_leaf     auc\n",
       "0                 1  0.9223\n",
       "1                 3  0.9223\n",
       "2                 5  0.9223\n",
       "3                10  0.9223\n",
       "4                50  0.9223"
      ]
     },
     "execution_count": 90,
     "metadata": {},
     "output_type": "execute_result"
    }
   ],
   "source": [
    "df_scores = pd.DataFrame(scores, columns=['min_samples_leaf', 'auc'])\n",
    "df_scores.sort_values(by='auc', ascending=False).head()\n",
    "\n",
    "# for s in [1, 3, 5, 10, 50]:\n",
    "#     df_subset = df_scores[df_scores.min_samples_leaf == s]\n",
    "#     plt.plot(df_subset.auc, label='min_samples=%s' % s)\n",
    "    \n",
    "# plt.legend()"
   ]
  },
  {
   "cell_type": "code",
   "execution_count": 91,
   "id": "b15e4c03",
   "metadata": {},
   "outputs": [],
   "source": [
    "# values seem stagnant, we will choose middle. min_samples_leaf = 10"
   ]
  },
  {
   "cell_type": "code",
   "execution_count": 92,
   "id": "527e1cd1",
   "metadata": {},
   "outputs": [
    {
     "data": {
      "text/plain": [
       "0.8589110981015304"
      ]
     },
     "execution_count": 92,
     "metadata": {},
     "output_type": "execute_result"
    }
   ],
   "source": [
    "rf = RandomForestClassifier(n_estimators=2,\n",
    "                            max_depth=2,\n",
    "                            min_samples_leaf=10,\n",
    "                            random_state=1)\n",
    "rf.fit(X_train, y_train)\n",
    "rf_pred = rf.predict_proba(X_val)[:, 1]\n",
    "satisfied = (rf_pred >= 0.5)\n",
    "(y_val == satisfied).mean()"
   ]
  },
  {
   "cell_type": "code",
   "execution_count": 93,
   "id": "3e1dabd4",
   "metadata": {},
   "outputs": [
    {
     "data": {
      "text/html": [
       "<div>\n",
       "<style scoped>\n",
       "    .dataframe tbody tr th:only-of-type {\n",
       "        vertical-align: middle;\n",
       "    }\n",
       "\n",
       "    .dataframe tbody tr th {\n",
       "        vertical-align: top;\n",
       "    }\n",
       "\n",
       "    .dataframe thead th {\n",
       "        text-align: right;\n",
       "    }\n",
       "</style>\n",
       "<table border=\"1\" class=\"dataframe\">\n",
       "  <thead>\n",
       "    <tr style=\"text-align: right;\">\n",
       "      <th></th>\n",
       "      <th>probability</th>\n",
       "      <th>prediction</th>\n",
       "      <th>actual</th>\n",
       "      <th>correct</th>\n",
       "    </tr>\n",
       "  </thead>\n",
       "  <tbody>\n",
       "    <tr>\n",
       "      <th>0</th>\n",
       "      <td>0.468914</td>\n",
       "      <td>0</td>\n",
       "      <td>0</td>\n",
       "      <td>True</td>\n",
       "    </tr>\n",
       "    <tr>\n",
       "      <th>1</th>\n",
       "      <td>0.834106</td>\n",
       "      <td>1</td>\n",
       "      <td>1</td>\n",
       "      <td>True</td>\n",
       "    </tr>\n",
       "    <tr>\n",
       "      <th>2</th>\n",
       "      <td>0.067119</td>\n",
       "      <td>0</td>\n",
       "      <td>0</td>\n",
       "      <td>True</td>\n",
       "    </tr>\n",
       "    <tr>\n",
       "      <th>3</th>\n",
       "      <td>0.834106</td>\n",
       "      <td>1</td>\n",
       "      <td>1</td>\n",
       "      <td>True</td>\n",
       "    </tr>\n",
       "    <tr>\n",
       "      <th>4</th>\n",
       "      <td>0.468914</td>\n",
       "      <td>0</td>\n",
       "      <td>0</td>\n",
       "      <td>True</td>\n",
       "    </tr>\n",
       "  </tbody>\n",
       "</table>\n",
       "</div>"
      ],
      "text/plain": [
       "   probability  prediction  actual  correct\n",
       "0     0.468914           0       0     True\n",
       "1     0.834106           1       1     True\n",
       "2     0.067119           0       0     True\n",
       "3     0.834106           1       1     True\n",
       "4     0.468914           0       0     True"
      ]
     },
     "execution_count": 93,
     "metadata": {},
     "output_type": "execute_result"
    }
   ],
   "source": [
    "df_rf_pred = pd.DataFrame()\n",
    "df_rf_pred['probability'] = rf_pred\n",
    "df_rf_pred['prediction'] = satisfied.astype(int)\n",
    "df_rf_pred['actual'] = y_val\n",
    "df_rf_pred['correct'] = df_rf_pred.prediction == df_rf_pred.actual\n",
    "df_rf_pred.head()"
   ]
  },
  {
   "cell_type": "code",
   "execution_count": 94,
   "id": "869a533b",
   "metadata": {},
   "outputs": [
    {
     "data": {
      "text/html": [
       "<div>\n",
       "<style scoped>\n",
       "    .dataframe tbody tr th:only-of-type {\n",
       "        vertical-align: middle;\n",
       "    }\n",
       "\n",
       "    .dataframe tbody tr th {\n",
       "        vertical-align: top;\n",
       "    }\n",
       "\n",
       "    .dataframe thead th {\n",
       "        text-align: right;\n",
       "    }\n",
       "</style>\n",
       "<table border=\"1\" class=\"dataframe\">\n",
       "  <thead>\n",
       "    <tr style=\"text-align: right;\">\n",
       "      <th></th>\n",
       "      <th>Model Name</th>\n",
       "      <th>Accuracy</th>\n",
       "      <th>Precision</th>\n",
       "      <th>Recall</th>\n",
       "      <th>F1</th>\n",
       "      <th>ROC AUC</th>\n",
       "    </tr>\n",
       "  </thead>\n",
       "  <tbody>\n",
       "    <tr>\n",
       "      <th>0</th>\n",
       "      <td>Random Forest</td>\n",
       "      <td>0.858911</td>\n",
       "      <td>0.868472</td>\n",
       "      <td>0.789875</td>\n",
       "      <td>0.827311</td>\n",
       "      <td>0.850207</td>\n",
       "    </tr>\n",
       "  </tbody>\n",
       "</table>\n",
       "</div>"
      ],
      "text/plain": [
       "      Model Name  Accuracy  Precision    Recall        F1   ROC AUC\n",
       "0  Random Forest  0.858911   0.868472  0.789875  0.827311  0.850207"
      ]
     },
     "execution_count": 94,
     "metadata": {},
     "output_type": "execute_result"
    }
   ],
   "source": [
    "rf_scores  = pd.DataFrame(data = [['Random Forest',\n",
    "                            accuracy_score(y_val, df_rf_pred['prediction']),\n",
    "                            precision_score(y_val, df_rf_pred['prediction']),\n",
    "                            recall_score(y_val, df_rf_pred['prediction']), \n",
    "                            f1_score(y_val, df_rf_pred['prediction']), \n",
    "                            roc_auc_score(y_val, df_rf_pred['prediction'])]],\n",
    "                         columns = ['Model Name','Accuracy','Precision','Recall','F1','ROC AUC'])\n",
    "rf_scores"
   ]
  },
  {
   "cell_type": "code",
   "execution_count": 95,
   "id": "f788130d",
   "metadata": {},
   "outputs": [
    {
     "data": {
      "text/plain": [
       "[('age', 0.0),\n",
       " ('arrival_delay_in_minutes', 0.0),\n",
       " ('baggage_handling', 0.0),\n",
       " ('checkin_service', 0.0),\n",
       " ('class=business', 0.0),\n",
       " ('class=eco', 0.0),\n",
       " ('class=eco_plus', 0.0),\n",
       " ('cleanliness', 0.0),\n",
       " ('customer_type=disloyal_customer', 0.0),\n",
       " ('customer_type=loyal_customer', 0.0),\n",
       " ('departure/arrival_time_convenient', 0.0),\n",
       " ('departure_delay_in_minutes', 0.0),\n",
       " ('ease_of_online_booking', 0.0),\n",
       " ('flight_distance', 0.0),\n",
       " ('food_and_drink', 0.0),\n",
       " ('gate_location', 0.0),\n",
       " ('gender=female', 0.0),\n",
       " ('gender=male', 0.0),\n",
       " ('inflight_entertainment', 0.21998714630117536),\n",
       " ('inflight_service', 0.0),\n",
       " ('inflight_wifi_service', 0.05972461964603808),\n",
       " ('leg_room_service', 0.06769325558957351),\n",
       " ('on-board_service', 0.0),\n",
       " ('online_boarding', 0.43450466517111347),\n",
       " ('seat_comfort', 0.0),\n",
       " ('type_of_travel=business_travel', 0.21809031329209966),\n",
       " ('type_of_travel=personal_travel', 0.0)]"
      ]
     },
     "execution_count": 95,
     "metadata": {},
     "output_type": "execute_result"
    }
   ],
   "source": [
    "list(zip(dv.feature_names_, rf.feature_importances_))\n"
   ]
  },
  {
   "cell_type": "code",
   "execution_count": 449,
   "id": "97d91010",
   "metadata": {},
   "outputs": [],
   "source": [
    "# This show that the two most important features are the 1. Type_of_Travel, and 2. Online Boarding and 3. Inflight Enter."
   ]
  },
  {
   "cell_type": "code",
   "execution_count": 101,
   "id": "c6756a01",
   "metadata": {},
   "outputs": [
    {
     "data": {
      "image/png": "[encoded data removed]",
      "text/plain": [
       "<Figure size 1200x800 with 1 Axes>"
      ]
     },
     "metadata": {},
     "output_type": "display_data"
    }
   ],
   "source": [
    "rf_import = pd.Series(rf.feature_importances_, index=dv.feature_names_)\n",
    "fig, ax = plt.subplots(figsize=(12,8))\n",
    "rf_import.plot.bar()\n",
    "ax.set_title(\"Feature Importance\")\n",
    "fig.tight_layout()"
   ]
  },
  {
   "cell_type": "code",
   "execution_count": 451,
   "id": "e44897f0",
   "metadata": {},
   "outputs": [],
   "source": [
    "# XGBoost Model"
   ]
  },
  {
   "cell_type": "code",
   "execution_count": 102,
   "id": "6e67ad23",
   "metadata": {},
   "outputs": [],
   "source": [
    "features = list(dv.get_feature_names_out())\n",
    "dtrain = xgb.DMatrix(X_train, label=y_train, feature_names=features)\n",
    "dval = xgb.DMatrix(X_val, label=y_val, feature_names=features)"
   ]
  },
  {
   "cell_type": "code",
   "execution_count": 104,
   "id": "e2367cae",
   "metadata": {},
   "outputs": [],
   "source": [
    "xgb_params = {\n",
    "    'eta': 0.3, \n",
    "    'max_depth': 1,\n",
    "#     similiar to min_samples_leaf\n",
    "    'min_child_weight': 1,\n",
    "    \n",
    "    'objective': 'binary:logistic',\n",
    "    'nthread': 8,\n",
    "    \n",
    "    'seed': 1,\n",
    "    'verbosity': 1,\n",
    "}\n",
    "\n",
    "model = xgb.train(xgb_params, dtrain, num_boost_round=10)"
   ]
  },
  {
   "cell_type": "code",
   "execution_count": 105,
   "id": "05636fd6",
   "metadata": {},
   "outputs": [],
   "source": [
    "y_pred = model.predict(dval)\n"
   ]
  },
  {
   "cell_type": "code",
   "execution_count": 106,
   "id": "13732856",
   "metadata": {},
   "outputs": [
    {
     "data": {
      "text/plain": [
       "0.9534254641820079"
      ]
     },
     "execution_count": 106,
     "metadata": {},
     "output_type": "execute_result"
    }
   ],
   "source": [
    "roc_auc_score(y_val, y_pred)\n"
   ]
  },
  {
   "cell_type": "code",
   "execution_count": 107,
   "id": "6a4dcd93",
   "metadata": {},
   "outputs": [],
   "source": [
    "watchlist = [(dtrain, 'train'), (dval, 'val')]\n"
   ]
  },
  {
   "cell_type": "code",
   "execution_count": 108,
   "id": "1c5e54fb",
   "metadata": {},
   "outputs": [],
   "source": [
    "def parse_xgb_output(output):\n",
    "    results = []\n",
    "    \n",
    "    for line in output.strip().split('\\n'):\n",
    "        num, train, val = line.split('\\t')\n",
    "        it = int(num.strip('[]'))\n",
    "        train = float(train.split(':')[1])\n",
    "        val = float(val.split(':')[1])\n",
    "        \n",
    "        results.append((it, train, val))\n",
    "    \n",
    "    columns = ['num_of_iterations', 'train_auc', 'val_auc']\n",
    "    df_results = pd.DataFrame(results, columns=columns)\n",
    "    \n",
    "    return df_results\n",
    "\n",
    "        "
   ]
  },
  {
   "cell_type": "code",
   "execution_count": 109,
   "id": "5fd9e66e",
   "metadata": {},
   "outputs": [],
   "source": [
    "%%capture output\n",
    "# this will allow us to capture the output. Line Magics must be at the beginning of the cell\n",
    "\n",
    "xgb_params = {\n",
    "    'eta': 0.3, \n",
    "    'max_depth': 1,\n",
    "    'min_child_weight': 1,\n",
    "    \n",
    "    'objective': 'binary:logistic',\n",
    "    'eval_metric': 'auc',\n",
    "    'nthread': 8,\n",
    "    \n",
    "    'seed': 1,\n",
    "    'verbosity': 1,\n",
    "}\n",
    "model = xgb.train(xgb_params, dtrain, evals=watchlist, verbose_eval=5, num_boost_round=200)\n"
   ]
  },
  {
   "cell_type": "code",
   "execution_count": 110,
   "id": "38c42640",
   "metadata": {},
   "outputs": [],
   "source": [
    "output_string = (output.stdout)"
   ]
  },
  {
   "cell_type": "code",
   "execution_count": 111,
   "id": "04f35176",
   "metadata": {},
   "outputs": [
    {
     "data": {
      "text/plain": [
       "<matplotlib.legend.Legend at 0x1317dec90>"
      ]
     },
     "execution_count": 111,
     "metadata": {},
     "output_type": "execute_result"
    },
    {
     "data": {
      "image/png": "[encoded data removed]",
      "text/plain": [
       "<Figure size 640x480 with 1 Axes>"
      ]
     },
     "metadata": {},
     "output_type": "display_data"
    }
   ],
   "source": [
    "df_score = parse_xgb_output(output_string)\n",
    " \n",
    "plt.plot(df_score.num_of_iterations\t, df_score.train_auc, label='train')\n",
    "plt.plot(df_score.num_of_iterations\t, df_score.val_auc, label='val')\n",
    "plt.legend()"
   ]
  },
  {
   "cell_type": "code",
   "execution_count": 112,
   "id": "22432c44",
   "metadata": {},
   "outputs": [],
   "source": [
    "xgb_params1 = {\n",
    "    'eta': 0.3, \n",
    "    'max_depth': 3,\n",
    "    'min_child_weight': 1,\n",
    "    'objective': 'binary:logistic',\n",
    "    'eval_metric': 'auc',\n",
    "    'nthread': 8,\n",
    "    'seed': 1,\n",
    "    'verbosity': 1,\n",
    "}"
   ]
  },
  {
   "cell_type": "code",
   "execution_count": 113,
   "id": "500c33df",
   "metadata": {},
   "outputs": [],
   "source": [
    "xgb_params2 = {\n",
    "    'eta': 0.01, \n",
    "    'max_depth': 3,\n",
    "    'min_child_weight': 1,\n",
    "    'objective': 'binary:logistic',\n",
    "    'eval_metric': 'auc',\n",
    "    'nthread': 8,\n",
    "    'seed': 1,\n",
    "    'verbosity': 1,\n",
    "}"
   ]
  },
  {
   "cell_type": "code",
   "execution_count": 114,
   "id": "5c0212d7",
   "metadata": {},
   "outputs": [],
   "source": [
    "xgb_params3 = {\n",
    "    'eta': 0.1, \n",
    "    'max_depth': 3,\n",
    "    'min_child_weight': 1,\n",
    "    'objective': 'binary:logistic',\n",
    "    'eval_metric': 'auc',\n",
    "    'nthread': 8,\n",
    "    'seed': 1,\n",
    "    'verbosity': 1,\n",
    "}"
   ]
  },
  {
   "cell_type": "code",
   "execution_count": 119,
   "id": "228c68f1",
   "metadata": {},
   "outputs": [
    {
     "name": "stdout",
     "output_type": "stream",
     "text": [
      "[0]\ttrain-auc:0.93981\tval-auc:0.93807\n",
      "[5]\ttrain-auc:0.96731\tval-auc:0.96516\n",
      "[10]\ttrain-auc:0.97866\tval-auc:0.97794\n",
      "[15]\ttrain-auc:0.98317\tval-auc:0.98236\n",
      "[20]\ttrain-auc:0.98539\tval-auc:0.98469\n",
      "[25]\ttrain-auc:0.98646\tval-auc:0.98586\n",
      "[30]\ttrain-auc:0.98805\tval-auc:0.98743\n",
      "[35]\ttrain-auc:0.98886\tval-auc:0.98828\n",
      "[40]\ttrain-auc:0.98936\tval-auc:0.98876\n",
      "[45]\ttrain-auc:0.99030\tval-auc:0.98969\n",
      "[50]\ttrain-auc:0.99068\tval-auc:0.99008\n",
      "[55]\ttrain-auc:0.99110\tval-auc:0.99047\n",
      "[60]\ttrain-auc:0.99150\tval-auc:0.99085\n",
      "[65]\ttrain-auc:0.99176\tval-auc:0.99106\n",
      "[70]\ttrain-auc:0.99202\tval-auc:0.99133\n",
      "[75]\ttrain-auc:0.99228\tval-auc:0.99158\n",
      "[80]\ttrain-auc:0.99248\tval-auc:0.99176\n",
      "[85]\ttrain-auc:0.99260\tval-auc:0.99183\n",
      "[90]\ttrain-auc:0.99277\tval-auc:0.99198\n",
      "[95]\ttrain-auc:0.99301\tval-auc:0.99216\n",
      "[99]\ttrain-auc:0.99322\tval-auc:0.99239\n"
     ]
    },
    {
     "data": {
      "text/plain": [
       "<matplotlib.legend.Legend at 0x1388f6f50>"
      ]
     },
     "execution_count": 119,
     "metadata": {},
     "output_type": "execute_result"
    },
    {
     "data": {
      "image/png": "[encoded data removed]",
      "text/plain": [
       "<Figure size 640x480 with 1 Axes>"
      ]
     },
     "metadata": {},
     "output_type": "display_data"
    }
   ],
   "source": [
    "evals_result = {}\n",
    "\n",
    "model = xgb.train(params=xgb_params1,\n",
    "                  dtrain=dtrain,\n",
    "                  num_boost_round=100,\n",
    "                  verbose_eval=5,\n",
    "                  evals=watchlist,\n",
    "                  evals_result=evals_result)\n",
    "\n",
    "columns = ['iter', 'train_auc', 'val_auc']\n",
    "train_aucs = list(evals_result['train'].values())[0]\n",
    "val_aucs = list(evals_result['val'].values())[0]\n",
    "\n",
    "df_scores = pd.DataFrame(\n",
    "    list(zip(\n",
    "        range(1, len(train_aucs) + 1),\n",
    "        train_aucs,\n",
    "        val_aucs\n",
    "    )), columns=columns)\n",
    "\n",
    "plt.plot(df_scores.iter, df_scores.train_auc, label='train')\n",
    "plt.plot(df_scores.iter, df_scores.val_auc, label='val')\n",
    "plt.legend()"
   ]
  },
  {
   "cell_type": "code",
   "execution_count": 120,
   "id": "6047d418",
   "metadata": {},
   "outputs": [
    {
     "name": "stdout",
     "output_type": "stream",
     "text": [
      "[0]\ttrain-auc:0.93981\tval-auc:0.93807\n",
      "[5]\ttrain-auc:0.93981\tval-auc:0.93807\n",
      "[10]\ttrain-auc:0.93981\tval-auc:0.93807\n",
      "[15]\ttrain-auc:0.93981\tval-auc:0.93807\n",
      "[20]\ttrain-auc:0.93981\tval-auc:0.93807\n",
      "[25]\ttrain-auc:0.94671\tval-auc:0.94412\n",
      "[30]\ttrain-auc:0.94938\tval-auc:0.94678\n",
      "[35]\ttrain-auc:0.95111\tval-auc:0.94865\n",
      "[40]\ttrain-auc:0.95129\tval-auc:0.94890\n",
      "[45]\ttrain-auc:0.95129\tval-auc:0.94890\n",
      "[50]\ttrain-auc:0.95297\tval-auc:0.95060\n",
      "[55]\ttrain-auc:0.95357\tval-auc:0.95117\n",
      "[60]\ttrain-auc:0.95479\tval-auc:0.95243\n",
      "[65]\ttrain-auc:0.95520\tval-auc:0.95282\n",
      "[70]\ttrain-auc:0.95541\tval-auc:0.95299\n",
      "[75]\ttrain-auc:0.95545\tval-auc:0.95298\n",
      "[80]\ttrain-auc:0.95575\tval-auc:0.95318\n",
      "[85]\ttrain-auc:0.95598\tval-auc:0.95340\n",
      "[90]\ttrain-auc:0.95761\tval-auc:0.95497\n",
      "[95]\ttrain-auc:0.95781\tval-auc:0.95512\n",
      "[99]\ttrain-auc:0.95789\tval-auc:0.95520\n"
     ]
    },
    {
     "data": {
      "text/plain": [
       "<matplotlib.legend.Legend at 0x138ab2e10>"
      ]
     },
     "execution_count": 120,
     "metadata": {},
     "output_type": "execute_result"
    },
    {
     "data": {
      "image/png": "[encoded data removed]",
      "text/plain": [
       "<Figure size 640x480 with 1 Axes>"
      ]
     },
     "metadata": {},
     "output_type": "display_data"
    }
   ],
   "source": [
    "evals_result = {}\n",
    "\n",
    "model = xgb.train(params=xgb_params2,\n",
    "                  dtrain=dtrain,\n",
    "                  num_boost_round=100,\n",
    "                  verbose_eval=5,\n",
    "                  evals=watchlist,\n",
    "                  evals_result=evals_result)\n",
    "\n",
    "columns = ['iter', 'train_auc', 'val_auc']\n",
    "train_aucs = list(evals_result['train'].values())[0]\n",
    "val_aucs = list(evals_result['val'].values())[0]\n",
    "\n",
    "df_scores = pd.DataFrame(\n",
    "    list(zip(\n",
    "        range(1, len(train_aucs) + 1),\n",
    "        train_aucs,\n",
    "        val_aucs\n",
    "    )), columns=columns)\n",
    "\n",
    "plt.plot(df_scores.iter, df_scores.train_auc, label='train')\n",
    "plt.plot(df_scores.iter, df_scores.val_auc, label='val')\n",
    "plt.legend()"
   ]
  },
  {
   "cell_type": "code",
   "execution_count": 121,
   "id": "75a815b9",
   "metadata": {},
   "outputs": [
    {
     "name": "stdout",
     "output_type": "stream",
     "text": [
      "[0]\ttrain-auc:0.93981\tval-auc:0.93807\n",
      "[5]\ttrain-auc:0.95130\tval-auc:0.94879\n",
      "[10]\ttrain-auc:0.95862\tval-auc:0.95580\n",
      "[15]\ttrain-auc:0.96929\tval-auc:0.96788\n",
      "[20]\ttrain-auc:0.97442\tval-auc:0.97334\n",
      "[25]\ttrain-auc:0.97688\tval-auc:0.97580\n",
      "[30]\ttrain-auc:0.97884\tval-auc:0.97782\n",
      "[35]\ttrain-auc:0.98043\tval-auc:0.97947\n",
      "[40]\ttrain-auc:0.98188\tval-auc:0.98109\n",
      "[45]\ttrain-auc:0.98291\tval-auc:0.98220\n",
      "[50]\ttrain-auc:0.98375\tval-auc:0.98306\n",
      "[55]\ttrain-auc:0.98458\tval-auc:0.98392\n",
      "[60]\ttrain-auc:0.98515\tval-auc:0.98448\n",
      "[65]\ttrain-auc:0.98584\tval-auc:0.98525\n",
      "[70]\ttrain-auc:0.98634\tval-auc:0.98573\n",
      "[75]\ttrain-auc:0.98673\tval-auc:0.98615\n",
      "[80]\ttrain-auc:0.98705\tval-auc:0.98649\n",
      "[85]\ttrain-auc:0.98732\tval-auc:0.98675\n",
      "[90]\ttrain-auc:0.98756\tval-auc:0.98701\n",
      "[95]\ttrain-auc:0.98807\tval-auc:0.98753\n",
      "[99]\ttrain-auc:0.98838\tval-auc:0.98784\n"
     ]
    },
    {
     "data": {
      "text/plain": [
       "<matplotlib.legend.Legend at 0x137aea850>"
      ]
     },
     "execution_count": 121,
     "metadata": {},
     "output_type": "execute_result"
    },
    {
     "data": {
      "image/png": "[encoded data removed]",
      "text/plain": [
       "<Figure size 640x480 with 1 Axes>"
      ]
     },
     "metadata": {},
     "output_type": "display_data"
    }
   ],
   "source": [
    "evals_result = {}\n",
    "\n",
    "model = xgb.train(params=xgb_params3,\n",
    "                  dtrain=dtrain,\n",
    "                  num_boost_round=100,\n",
    "                  verbose_eval=5,\n",
    "                  evals=watchlist,\n",
    "                  evals_result=evals_result)\n",
    "\n",
    "columns = ['iter', 'train_auc', 'val_auc']\n",
    "train_aucs = list(evals_result['train'].values())[0]\n",
    "val_aucs = list(evals_result['val'].values())[0]\n",
    "\n",
    "df_scores = pd.DataFrame(\n",
    "    list(zip(\n",
    "        range(1, len(train_aucs) + 1),\n",
    "        train_aucs,\n",
    "        val_aucs\n",
    "    )), columns=columns)\n",
    "\n",
    "plt.plot(df_scores.iter, df_scores.train_auc, label='train')\n",
    "plt.plot(df_scores.iter, df_scores.val_auc, label='val')\n",
    "plt.legend()"
   ]
  },
  {
   "cell_type": "code",
   "execution_count": 123,
   "id": "95410e66",
   "metadata": {},
   "outputs": [],
   "source": [
    "# We will hold ETA at 0.3 and max depth at 3\n",
    "xgb_params_final = {\n",
    "    'eta': 0.3, \n",
    "    'max_depth': 3,\n",
    "    'min_child_weight': 1,\n",
    "    'objective': 'binary:logistic',\n",
    "    'eval_metric': 'auc',\n",
    "    'nthread': 8,\n",
    "    'seed': 1,\n",
    "    'verbosity': 1,\n",
    "}"
   ]
  },
  {
   "cell_type": "code",
   "execution_count": 124,
   "id": "0e3f6b02",
   "metadata": {},
   "outputs": [
    {
     "name": "stdout",
     "output_type": "stream",
     "text": [
      "[0]\ttrain-auc:0.93981\tval-auc:0.93807\n",
      "[5]\ttrain-auc:0.96731\tval-auc:0.96516\n",
      "[10]\ttrain-auc:0.97866\tval-auc:0.97794\n",
      "[15]\ttrain-auc:0.98317\tval-auc:0.98236\n",
      "[20]\ttrain-auc:0.98539\tval-auc:0.98469\n",
      "[25]\ttrain-auc:0.98646\tval-auc:0.98586\n",
      "[30]\ttrain-auc:0.98805\tval-auc:0.98743\n",
      "[35]\ttrain-auc:0.98886\tval-auc:0.98828\n",
      "[40]\ttrain-auc:0.98936\tval-auc:0.98876\n",
      "[45]\ttrain-auc:0.99030\tval-auc:0.98969\n",
      "[50]\ttrain-auc:0.99068\tval-auc:0.99008\n",
      "[55]\ttrain-auc:0.99110\tval-auc:0.99047\n",
      "[60]\ttrain-auc:0.99150\tval-auc:0.99085\n",
      "[65]\ttrain-auc:0.99176\tval-auc:0.99106\n",
      "[70]\ttrain-auc:0.99202\tval-auc:0.99133\n",
      "[75]\ttrain-auc:0.99228\tval-auc:0.99158\n",
      "[80]\ttrain-auc:0.99248\tval-auc:0.99176\n",
      "[85]\ttrain-auc:0.99260\tval-auc:0.99183\n",
      "[90]\ttrain-auc:0.99277\tval-auc:0.99198\n",
      "[95]\ttrain-auc:0.99301\tval-auc:0.99216\n",
      "[99]\ttrain-auc:0.99322\tval-auc:0.99239\n"
     ]
    },
    {
     "data": {
      "text/plain": [
       "<matplotlib.legend.Legend at 0x13795a3d0>"
      ]
     },
     "execution_count": 124,
     "metadata": {},
     "output_type": "execute_result"
    },
    {
     "data": {
      "image/png": "[encoded data removed]",
      "text/plain": [
       "<Figure size 640x480 with 1 Axes>"
      ]
     },
     "metadata": {},
     "output_type": "display_data"
    }
   ],
   "source": [
    "evals_result = {}\n",
    "\n",
    "model_final = xgb.train(params=xgb_params_final,\n",
    "                  dtrain=dtrain,\n",
    "                  num_boost_round=100,\n",
    "                  verbose_eval=5,\n",
    "                  evals=watchlist,\n",
    "                  evals_result=evals_result)\n",
    "\n",
    "columns = ['iter', 'train_auc', 'val_auc']\n",
    "train_aucs = list(evals_result['train'].values())[0]\n",
    "val_aucs = list(evals_result['val'].values())[0]\n",
    "\n",
    "df_scores = pd.DataFrame(\n",
    "    list(zip(\n",
    "        range(1, len(train_aucs) + 1),\n",
    "        train_aucs,\n",
    "        val_aucs\n",
    "    )), columns=columns)\n",
    "\n",
    "plt.plot(df_scores.iter, df_scores.train_auc, label='train')\n",
    "plt.plot(df_scores.iter, df_scores.val_auc, label='val')\n",
    "plt.legend()"
   ]
  },
  {
   "cell_type": "code",
   "execution_count": 127,
   "id": "0762f920",
   "metadata": {},
   "outputs": [],
   "source": [
    "xgb_pred = model_final.predict(dval)\n",
    "xgb_satisfied = (xgb_pred >= 0.5)"
   ]
  },
  {
   "cell_type": "code",
   "execution_count": 128,
   "id": "ba9a965d",
   "metadata": {},
   "outputs": [
    {
     "data": {
      "text/html": [
       "<div>\n",
       "<style scoped>\n",
       "    .dataframe tbody tr th:only-of-type {\n",
       "        vertical-align: middle;\n",
       "    }\n",
       "\n",
       "    .dataframe tbody tr th {\n",
       "        vertical-align: top;\n",
       "    }\n",
       "\n",
       "    .dataframe thead th {\n",
       "        text-align: right;\n",
       "    }\n",
       "</style>\n",
       "<table border=\"1\" class=\"dataframe\">\n",
       "  <thead>\n",
       "    <tr style=\"text-align: right;\">\n",
       "      <th></th>\n",
       "      <th>probability</th>\n",
       "      <th>prediction</th>\n",
       "      <th>actual</th>\n",
       "      <th>correct</th>\n",
       "    </tr>\n",
       "  </thead>\n",
       "  <tbody>\n",
       "    <tr>\n",
       "      <th>0</th>\n",
       "      <td>0.232928</td>\n",
       "      <td>0</td>\n",
       "      <td>0</td>\n",
       "      <td>True</td>\n",
       "    </tr>\n",
       "    <tr>\n",
       "      <th>1</th>\n",
       "      <td>0.999989</td>\n",
       "      <td>1</td>\n",
       "      <td>1</td>\n",
       "      <td>True</td>\n",
       "    </tr>\n",
       "    <tr>\n",
       "      <th>2</th>\n",
       "      <td>0.000337</td>\n",
       "      <td>0</td>\n",
       "      <td>0</td>\n",
       "      <td>True</td>\n",
       "    </tr>\n",
       "    <tr>\n",
       "      <th>3</th>\n",
       "      <td>0.999006</td>\n",
       "      <td>1</td>\n",
       "      <td>1</td>\n",
       "      <td>True</td>\n",
       "    </tr>\n",
       "    <tr>\n",
       "      <th>4</th>\n",
       "      <td>0.140636</td>\n",
       "      <td>0</td>\n",
       "      <td>0</td>\n",
       "      <td>True</td>\n",
       "    </tr>\n",
       "  </tbody>\n",
       "</table>\n",
       "</div>"
      ],
      "text/plain": [
       "   probability  prediction  actual  correct\n",
       "0     0.232928           0       0     True\n",
       "1     0.999989           1       1     True\n",
       "2     0.000337           0       0     True\n",
       "3     0.999006           1       1     True\n",
       "4     0.140636           0       0     True"
      ]
     },
     "execution_count": 128,
     "metadata": {},
     "output_type": "execute_result"
    }
   ],
   "source": [
    "df_xgb_pred = pd.DataFrame()\n",
    "df_xgb_pred['probability'] = xgb_pred\n",
    "df_xgb_pred['prediction'] = xgb_satisfied.astype(int)\n",
    "df_xgb_pred['actual'] = y_val\n",
    "df_xgb_pred['correct'] = df_xgb_pred.prediction == df_xgb_pred.actual\n",
    "df_xgb_pred.head()"
   ]
  },
  {
   "cell_type": "code",
   "execution_count": 129,
   "id": "d430ccc3",
   "metadata": {},
   "outputs": [
    {
     "data": {
      "text/html": [
       "<div>\n",
       "<style scoped>\n",
       "    .dataframe tbody tr th:only-of-type {\n",
       "        vertical-align: middle;\n",
       "    }\n",
       "\n",
       "    .dataframe tbody tr th {\n",
       "        vertical-align: top;\n",
       "    }\n",
       "\n",
       "    .dataframe thead th {\n",
       "        text-align: right;\n",
       "    }\n",
       "</style>\n",
       "<table border=\"1\" class=\"dataframe\">\n",
       "  <thead>\n",
       "    <tr style=\"text-align: right;\">\n",
       "      <th></th>\n",
       "      <th>Model Name</th>\n",
       "      <th>Accuracy</th>\n",
       "      <th>Precision</th>\n",
       "      <th>Recall</th>\n",
       "      <th>F1</th>\n",
       "      <th>ROC AUC</th>\n",
       "    </tr>\n",
       "  </thead>\n",
       "  <tbody>\n",
       "    <tr>\n",
       "      <th>0</th>\n",
       "      <td>XGBoost</td>\n",
       "      <td>0.955716</td>\n",
       "      <td>0.962582</td>\n",
       "      <td>0.93276</td>\n",
       "      <td>0.947436</td>\n",
       "      <td>0.952822</td>\n",
       "    </tr>\n",
       "  </tbody>\n",
       "</table>\n",
       "</div>"
      ],
      "text/plain": [
       "  Model Name  Accuracy  Precision   Recall        F1   ROC AUC\n",
       "0    XGBoost  0.955716   0.962582  0.93276  0.947436  0.952822"
      ]
     },
     "execution_count": 129,
     "metadata": {},
     "output_type": "execute_result"
    }
   ],
   "source": [
    "xgb_scores  = pd.DataFrame(data = [['XGBoost',\n",
    "                            accuracy_score(y_val, df_xgb_pred['prediction']),\n",
    "                            precision_score(y_val, df_xgb_pred['prediction']),\n",
    "                            recall_score(y_val, df_xgb_pred['prediction']), \n",
    "                            f1_score(y_val, df_xgb_pred['prediction']), \n",
    "                            roc_auc_score(y_val, df_xgb_pred['prediction'])]],\n",
    "                         columns = ['Model Name','Accuracy','Precision','Recall','F1','ROC AUC'])\n",
    "xgb_scores"
   ]
  },
  {
   "cell_type": "code",
   "execution_count": 472,
   "id": "cc32667d",
   "metadata": {},
   "outputs": [],
   "source": [
    "# now we choose the best out of our 2 models. Based on our scores, our XGBoost model is the best"
   ]
  },
  {
   "cell_type": "code",
   "execution_count": 130,
   "id": "e175a358",
   "metadata": {},
   "outputs": [
    {
     "data": {
      "text/html": [
       "<div>\n",
       "<style scoped>\n",
       "    .dataframe tbody tr th:only-of-type {\n",
       "        vertical-align: middle;\n",
       "    }\n",
       "\n",
       "    .dataframe tbody tr th {\n",
       "        vertical-align: top;\n",
       "    }\n",
       "\n",
       "    .dataframe thead th {\n",
       "        text-align: right;\n",
       "    }\n",
       "</style>\n",
       "<table border=\"1\" class=\"dataframe\">\n",
       "  <thead>\n",
       "    <tr style=\"text-align: right;\">\n",
       "      <th></th>\n",
       "      <th>Model Name</th>\n",
       "      <th>Accuracy</th>\n",
       "      <th>Precision</th>\n",
       "      <th>Recall</th>\n",
       "      <th>F1</th>\n",
       "      <th>ROC AUC</th>\n",
       "    </tr>\n",
       "  </thead>\n",
       "  <tbody>\n",
       "    <tr>\n",
       "      <th>0</th>\n",
       "      <td>XGBoost</td>\n",
       "      <td>0.955716</td>\n",
       "      <td>0.962582</td>\n",
       "      <td>0.932760</td>\n",
       "      <td>0.947436</td>\n",
       "      <td>0.952822</td>\n",
       "    </tr>\n",
       "    <tr>\n",
       "      <th>0</th>\n",
       "      <td>Decision Tree</td>\n",
       "      <td>0.925734</td>\n",
       "      <td>0.940600</td>\n",
       "      <td>0.882134</td>\n",
       "      <td>0.910430</td>\n",
       "      <td>0.920237</td>\n",
       "    </tr>\n",
       "    <tr>\n",
       "      <th>0</th>\n",
       "      <td>Random Forest</td>\n",
       "      <td>0.858911</td>\n",
       "      <td>0.868472</td>\n",
       "      <td>0.789875</td>\n",
       "      <td>0.827311</td>\n",
       "      <td>0.850207</td>\n",
       "    </tr>\n",
       "  </tbody>\n",
       "</table>\n",
       "</div>"
      ],
      "text/plain": [
       "      Model Name  Accuracy  Precision    Recall        F1   ROC AUC\n",
       "0        XGBoost  0.955716   0.962582  0.932760  0.947436  0.952822\n",
       "0  Decision Tree  0.925734   0.940600  0.882134  0.910430  0.920237\n",
       "0  Random Forest  0.858911   0.868472  0.789875  0.827311  0.850207"
      ]
     },
     "execution_count": 130,
     "metadata": {},
     "output_type": "execute_result"
    }
   ],
   "source": [
    "model_scores = pd.concat([dt_scores, rf_scores, xgb_scores])\n",
    "model_scores.sort_values('ROC AUC', ascending=False)"
   ]
  },
  {
   "cell_type": "code",
   "execution_count": 131,
   "id": "3a19b27d",
   "metadata": {},
   "outputs": [],
   "source": [
    "y_full_train = (df_full_train.satisfaction == 'satisfied').astype('int').values\n",
    "del df_full_train['satisfaction']"
   ]
  },
  {
   "cell_type": "code",
   "execution_count": 132,
   "id": "72f21f32",
   "metadata": {},
   "outputs": [],
   "source": [
    "dicts_full_train = df_full_train.to_dict(orient='records')\n",
    "\n",
    "dv = DictVectorizer(sparse=False)\n",
    "X_full_train = dv.fit_transform(dicts_full_train)\n",
    "\n",
    "dicts_test = df_test.to_dict(orient='records')\n",
    "X_test = dv.transform(dicts_test)"
   ]
  },
  {
   "cell_type": "code",
   "execution_count": null,
   "id": "1a55e337",
   "metadata": {},
   "outputs": [],
   "source": []
  },
  {
   "cell_type": "code",
   "execution_count": 133,
   "id": "d1ba875b",
   "metadata": {},
   "outputs": [],
   "source": [
    "features = list(dv.get_feature_names_out())\n",
    "\n",
    "dfull_train = xgb.DMatrix(X_full_train, label=y_full_train, feature_names=features)\n",
    "dtest = xgb.DMatrix(X_test, feature_names=features)"
   ]
  },
  {
   "cell_type": "code",
   "execution_count": 134,
   "id": "ffce4385",
   "metadata": {},
   "outputs": [
    {
     "name": "stdout",
     "output_type": "stream",
     "text": [
      "[0]\ttrain-auc:0.93981\tval-auc:0.93807\n",
      "[5]\ttrain-auc:0.96803\tval-auc:0.96665\n",
      "[10]\ttrain-auc:0.97945\tval-auc:0.97853\n",
      "[15]\ttrain-auc:0.98275\tval-auc:0.98225\n",
      "[20]\ttrain-auc:0.98522\tval-auc:0.98477\n",
      "[25]\ttrain-auc:0.98702\tval-auc:0.98667\n",
      "[30]\ttrain-auc:0.98821\tval-auc:0.98784\n",
      "[35]\ttrain-auc:0.98910\tval-auc:0.98884\n",
      "[40]\ttrain-auc:0.99000\tval-auc:0.98979\n",
      "[45]\ttrain-auc:0.99067\tval-auc:0.99049\n",
      "[50]\ttrain-auc:0.99110\tval-auc:0.99099\n",
      "[55]\ttrain-auc:0.99149\tval-auc:0.99144\n",
      "[60]\ttrain-auc:0.99174\tval-auc:0.99166\n",
      "[65]\ttrain-auc:0.99203\tval-auc:0.99195\n",
      "[70]\ttrain-auc:0.99224\tval-auc:0.99218\n",
      "[75]\ttrain-auc:0.99249\tval-auc:0.99245\n",
      "[80]\ttrain-auc:0.99266\tval-auc:0.99262\n",
      "[85]\ttrain-auc:0.99288\tval-auc:0.99292\n",
      "[90]\ttrain-auc:0.99300\tval-auc:0.99304\n",
      "[95]\ttrain-auc:0.99312\tval-auc:0.99315\n",
      "[99]\ttrain-auc:0.99321\tval-auc:0.99328\n"
     ]
    }
   ],
   "source": [
    "xgb_model = xgb.train(params=xgb_params_final,\n",
    "                  dtrain=dfull_train,\n",
    "                  num_boost_round=100,\n",
    "                  verbose_eval=5,\n",
    "                  evals=watchlist,\n",
    "                  evals_result=evals_result)\n",
    "xgb_pred = xgb_model.predict(dtest)\n",
    "xgb_satisfied = (xgb_pred >= 0.5)"
   ]
  },
  {
   "cell_type": "code",
   "execution_count": 135,
   "id": "5fa5d5a7",
   "metadata": {},
   "outputs": [
    {
     "data": {
      "text/html": [
       "<div>\n",
       "<style scoped>\n",
       "    .dataframe tbody tr th:only-of-type {\n",
       "        vertical-align: middle;\n",
       "    }\n",
       "\n",
       "    .dataframe tbody tr th {\n",
       "        vertical-align: top;\n",
       "    }\n",
       "\n",
       "    .dataframe thead th {\n",
       "        text-align: right;\n",
       "    }\n",
       "</style>\n",
       "<table border=\"1\" class=\"dataframe\">\n",
       "  <thead>\n",
       "    <tr style=\"text-align: right;\">\n",
       "      <th></th>\n",
       "      <th>Model Name</th>\n",
       "      <th>Accuracy</th>\n",
       "      <th>Precision</th>\n",
       "      <th>Recall</th>\n",
       "      <th>F1</th>\n",
       "      <th>ROC AUC</th>\n",
       "    </tr>\n",
       "  </thead>\n",
       "  <tbody>\n",
       "    <tr>\n",
       "      <th>0</th>\n",
       "      <td>XGBoost (Full Train)</td>\n",
       "      <td>0.956051</td>\n",
       "      <td>0.964927</td>\n",
       "      <td>0.931045</td>\n",
       "      <td>0.947683</td>\n",
       "      <td>0.952885</td>\n",
       "    </tr>\n",
       "  </tbody>\n",
       "</table>\n",
       "</div>"
      ],
      "text/plain": [
       "             Model Name  Accuracy  Precision    Recall        F1   ROC AUC\n",
       "0  XGBoost (Full Train)  0.956051   0.964927  0.931045  0.947683  0.952885"
      ]
     },
     "execution_count": 135,
     "metadata": {},
     "output_type": "execute_result"
    }
   ],
   "source": [
    "xgb_f_scores  = pd.DataFrame(data = [['XGBoost (Full Train)',\n",
    "                            accuracy_score(y_test, xgb_satisfied.astype(int)),\n",
    "                            precision_score(y_test, xgb_satisfied.astype(int)),\n",
    "                            recall_score(y_test, xgb_satisfied.astype(int)), \n",
    "                            f1_score(y_test, xgb_satisfied.astype(int)), \n",
    "                            roc_auc_score(y_test, xgb_satisfied.astype(int))]],\n",
    "                         columns = ['Model Name','Accuracy','Precision','Recall','F1','ROC AUC'])\n",
    "xgb_f_scores"
   ]
  },
  {
   "cell_type": "markdown",
   "id": "c408b47d",
   "metadata": {},
   "source": [
    "Observations\n",
    "Overall, our model  perform well on the test dataset. \n",
    "Conclusion\n",
    "Sitting in business class and having online boarding seem to be the biggest driver for being your passenger to be satisfied. Makes sense when you think about how improving leg room and level of comfort can improve the time on the flight. "
   ]
  }
 ],
 "metadata": {
  "kernelspec": {
   "display_name": "Python 3 (ipykernel)",
   "language": "python",
   "name": "python3"
  },
  "language_info": {
   "codemirror_mode": {
    "name": "ipython",
    "version": 3
   },
   "file_extension": ".py",
   "mimetype": "text/x-python",
   "name": "python",
   "nbconvert_exporter": "python",
   "pygments_lexer": "ipython3",
   "version": "3.11.4"
  }
 },
 "nbformat": 4,
 "nbformat_minor": 5
}
